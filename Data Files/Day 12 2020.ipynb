{
 "cells": [
  {
   "cell_type": "markdown",
   "metadata": {},
   "source": [
    "# Day 12\n",
    "\n",
    "Navigating the ferry.\n",
    "\n",
    "### Part 1\n",
    "\n",
    "Ferry starts at (0, 0) facing east.\n",
    "\n",
    "    Action N means to move north by the given value.\n",
    "    Action S means to move south by the given value.\n",
    "    Action E means to move east by the given value.\n",
    "    Action W means to move west by the given value.\n",
    "    Action L means to turn left the given number of degrees.\n",
    "    Action R means to turn right the given number of degrees.\n",
    "    Action F means to move forward by the given value in the direction the ship is currently facing.\n",
    "\n",
    "What is the Manhattan distance from the starting spot after all directions are followed?"
   ]
  },
  {
   "cell_type": "code",
   "execution_count": 1,
   "metadata": {},
   "outputs": [],
   "source": [
    "f = open('day12.txt')\n",
    "dirs = f.read().splitlines()\n",
    "f.close()"
   ]
  },
  {
   "cell_type": "code",
   "execution_count": 2,
   "metadata": {},
   "outputs": [
    {
     "data": {
      "text/plain": [
       "['L90', 'N5', 'L180', 'L180', 'S4']"
      ]
     },
     "execution_count": 2,
     "metadata": {},
     "output_type": "execute_result"
    }
   ],
   "source": [
    "dirs[:5]"
   ]
  },
  {
   "cell_type": "code",
   "execution_count": 3,
   "metadata": {},
   "outputs": [],
   "source": [
    "x, y = 0, 0\n",
    "direction = 0 # east: 0, 1, 2, 3 = east, north, west, south\n",
    "for d in dirs:\n",
    "    inst, val = d[0], int(d[1:])\n",
    "    if inst == 'E':\n",
    "        x += val\n",
    "    elif inst == 'W':\n",
    "        x -= val\n",
    "    elif inst == 'N':\n",
    "        y += val\n",
    "    elif inst == 'S':\n",
    "        y -= val\n",
    "    else: # if inst in 'RLF'\n",
    "        if inst == 'R':\n",
    "            direction = (direction + val//90) % 4\n",
    "        elif inst == 'L':\n",
    "            direction = (direction - val//90) % 4\n",
    "        elif inst == 'F':\n",
    "            if direction == 0:\n",
    "                x += val\n",
    "            elif direction == 1:\n",
    "                y += val\n",
    "            elif direction == 2:\n",
    "                x -= val\n",
    "            elif direction == 3:\n",
    "                y -= val"
   ]
  },
  {
   "cell_type": "code",
   "execution_count": 4,
   "metadata": {},
   "outputs": [
    {
     "data": {
      "text/plain": [
       "(-578, -429)"
      ]
     },
     "execution_count": 4,
     "metadata": {},
     "output_type": "execute_result"
    }
   ],
   "source": [
    "x, y"
   ]
  },
  {
   "cell_type": "code",
   "execution_count": 5,
   "metadata": {},
   "outputs": [
    {
     "data": {
      "text/plain": [
       "-1007"
      ]
     },
     "execution_count": 5,
     "metadata": {},
     "output_type": "execute_result"
    }
   ],
   "source": [
    "sum((x,y))"
   ]
  },
  {
   "cell_type": "markdown",
   "metadata": {},
   "source": [
    "### Part 2\n",
    "\n",
    "Now interpret instructions as associated with a waypoint that begins at (10, 1) relative to the ferry starting at (0, 0).\n",
    "\n",
    "    Action N means to move the waypoint north by the given value.\n",
    "    Action S means to move the waypoint south by the given value.\n",
    "    Action E means to move the waypoint east by the given value.\n",
    "    Action W means to move the waypoint west by the given value.\n",
    "    Action L means to rotate the waypoint around the ship left (counter-clockwise) the given number of degrees.\n",
    "    Action R means to rotate the waypoint around the ship right (clockwise) the given number of degrees.\n",
    "    Action F means to move forward to the waypoint a number of times equal to the given value.\n",
    "    \n",
    "Again, find the Manhattan distance the ferry is from its starting spot."
   ]
  },
  {
   "cell_type": "code",
   "execution_count": 6,
   "metadata": {},
   "outputs": [],
   "source": [
    "x, y = 0, 0\n",
    "wx, wy = 10, 1\n",
    "direction = 0\n",
    "for d in dirs:\n",
    "    inst, val = d[0], int(d[1:])\n",
    "    if inst == 'N':\n",
    "        wy += val\n",
    "    elif inst == 'S':\n",
    "        wy -= val\n",
    "    elif inst == 'W':\n",
    "        wx -= val\n",
    "    elif inst == 'E':\n",
    "        wx += val\n",
    "    elif d == 'R90' or d == 'L270':\n",
    "        wx, wy = wy, -wx\n",
    "    elif d == 'R180' or  d == 'L180':\n",
    "        wx, wy = -wx, -wy\n",
    "    elif d == 'R270' or d == 'L90':\n",
    "        wx, wy = -wy, wx\n",
    "    elif inst == 'F':\n",
    "        x += wx*val\n",
    "        y += wy*val\n",
    "        "
   ]
  },
  {
   "cell_type": "code",
   "execution_count": 7,
   "metadata": {},
   "outputs": [
    {
     "data": {
      "text/plain": [
       "(-36653, -4559)"
      ]
     },
     "execution_count": 7,
     "metadata": {},
     "output_type": "execute_result"
    }
   ],
   "source": [
    "x, y"
   ]
  },
  {
   "cell_type": "code",
   "execution_count": 9,
   "metadata": {},
   "outputs": [
    {
     "data": {
      "text/plain": [
       "-41212"
      ]
     },
     "execution_count": 9,
     "metadata": {},
     "output_type": "execute_result"
    }
   ],
   "source": [
    "sum((x, y))"
   ]
  },
  {
   "cell_type": "code",
   "execution_count": null,
   "metadata": {},
   "outputs": [],
   "source": []
  }
 ],
 "metadata": {
  "kernelspec": {
   "display_name": "Python 3",
   "language": "python",
   "name": "python3"
  },
  "language_info": {
   "codemirror_mode": {
    "name": "ipython",
    "version": 3
   },
   "file_extension": ".py",
   "mimetype": "text/x-python",
   "name": "python",
   "nbconvert_exporter": "python",
   "pygments_lexer": "ipython3",
   "version": "3.8.3"
  }
 },
 "nbformat": 4,
 "nbformat_minor": 4
}
