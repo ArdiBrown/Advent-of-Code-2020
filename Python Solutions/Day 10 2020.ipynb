{
 "cells": [
  {
   "cell_type": "markdown",
   "metadata": {},
   "source": [
    "# Day 10\n",
    "\n",
    "Lots of vlotage adapters.\n",
    "\n",
    "### Part 1\n",
    "Using all of the adapters, how many 1 jumps and how many 3 jumps? Find the product of their counts."
   ]
  },
  {
   "cell_type": "code",
   "execution_count": 1,
   "metadata": {},
   "outputs": [],
   "source": [
    "f = open('day10.txt')\n",
    "adapters = list(map(int, f.read().splitlines()))\n",
    "f.close()"
   ]
  },
  {
   "cell_type": "code",
   "execution_count": 2,
   "metadata": {},
   "outputs": [
    {
     "data": {
      "text/plain": [
       "[2, 49, 78, 116, 143, 42, 142, 87, 132, 86]"
      ]
     },
     "execution_count": 2,
     "metadata": {},
     "output_type": "execute_result"
    }
   ],
   "source": [
    "adapters[:10]"
   ]
  },
  {
   "cell_type": "code",
   "execution_count": 19,
   "metadata": {},
   "outputs": [
    {
     "data": {
      "text/plain": [
       "[0, 1, 2, 3, 4, 7, 8, 9, 10, 11]"
      ]
     },
     "execution_count": 19,
     "metadata": {},
     "output_type": "execute_result"
    }
   ],
   "source": [
    "ordered = sorted(adapters)\n",
    "ordered = [0] + ordered + [ordered[-1]+3]  # wall (0) and built-in adapter (3 more than biggest)\n",
    "ordered[:10]"
   ]
  },
  {
   "cell_type": "code",
   "execution_count": 20,
   "metadata": {},
   "outputs": [],
   "source": [
    "diffs = [ordered[i+1] - ordered[i] for i in range(len(ordered)-1)]"
   ]
  },
  {
   "cell_type": "code",
   "execution_count": 80,
   "metadata": {},
   "outputs": [
    {
     "data": {
      "text/plain": [
       "[1, 1, 1, 1, 3, 1, 1, 1, 1, 3, 3, 3, 1, 1, 1, 1, 3, 1, 1, 1]"
      ]
     },
     "execution_count": 80,
     "metadata": {},
     "output_type": "execute_result"
    }
   ],
   "source": [
    "diffs[:20]"
   ]
  },
  {
   "cell_type": "code",
   "execution_count": 22,
   "metadata": {},
   "outputs": [
    {
     "data": {
      "text/plain": [
       "35"
      ]
     },
     "execution_count": 22,
     "metadata": {},
     "output_type": "execute_result"
    }
   ],
   "source": [
    "diffs.count(3)"
   ]
  },
  {
   "cell_type": "code",
   "execution_count": 23,
   "metadata": {},
   "outputs": [
    {
     "data": {
      "text/plain": [
       "70"
      ]
     },
     "execution_count": 23,
     "metadata": {},
     "output_type": "execute_result"
    }
   ],
   "source": [
    "diffs.count(1)"
   ]
  },
  {
   "cell_type": "code",
   "execution_count": 24,
   "metadata": {},
   "outputs": [
    {
     "data": {
      "text/plain": [
       "2450"
      ]
     },
     "execution_count": 24,
     "metadata": {},
     "output_type": "execute_result"
    }
   ],
   "source": [
    "35*70"
   ]
  },
  {
   "cell_type": "markdown",
   "metadata": {},
   "source": [
    "### Part 2\n",
    "\n",
    "How many possible ways can we connect the wall to the built-in adapter? Over a trillion, recursion won't work.\n",
    "\n",
    "Basically it seems like part 1 was to point out that all the differences are 1 or 3 between two consecutive numbers; if the diff is three then there's only one choice, so we really just need to look at the chunks where there are several values in a row that are 1 apart."
   ]
  },
  {
   "cell_type": "markdown",
   "metadata": {},
   "source": [
    "#### Setting up some sample data"
   ]
  },
  {
   "cell_type": "code",
   "execution_count": 27,
   "metadata": {},
   "outputs": [
    {
     "data": {
      "text/plain": [
       "[0, 1, 4, 5, 6, 7, 10, 11, 12, 15, 16, 19, 22]"
      ]
     },
     "execution_count": 27,
     "metadata": {},
     "output_type": "execute_result"
    }
   ],
   "source": [
    "data2 = [16,10,15,5,1,11,7,19,6,12,4]\n",
    "ordered2 = sorted(data2)\n",
    "ordered2 = [0] + ordered2 + [ordered2[-1]+3]  # wall (0) and built-in adapter (3 more than biggest)\n",
    "ordered2"
   ]
  },
  {
   "cell_type": "code",
   "execution_count": 31,
   "metadata": {},
   "outputs": [
    {
     "data": {
      "text/plain": [
       "[0, 1, 2, 3, 4, 7, 8, 9, 10, 11, 14, 17, 18, 19, 20]"
      ]
     },
     "execution_count": 31,
     "metadata": {},
     "output_type": "execute_result"
    }
   ],
   "source": [
    "data3 = [28, 33, 18, 42, 31, 14, 46, 20, 48, 47, 24, 23, 49, 45, 19, \n",
    "            38, 39, 11, 1, 32, 25, 35, 8, 17, 7, 9, 4, 2, 34, 10, 3]\n",
    "ordered3 = sorted(data3)\n",
    "ordered3 = [0] + ordered3 + [ordered3[-1]+3]  # wall (0) and built-in adapter (3 more than biggest)\n",
    "ordered3[:15]"
   ]
  },
  {
   "cell_type": "markdown",
   "metadata": {},
   "source": [
    "#### Okay, let's take a look at possible arrangements for $n$ consecutive integers:\n",
    "\n",
    "    1                 : 1 arrangement\n",
    "   \n",
    "    1 2               : 1 arrangement\n",
    "    \n",
    "    1 2 3             : 2 arrangements\n",
    "    1   3\n",
    "    \n",
    "    1 2 3 4           : 4 arrangements\n",
    "    1   3 4\n",
    "    1 2   4 \n",
    "    1     4\n",
    "    \n",
    "    1 2 3 4 5         : 7 arrangements\n",
    "    1 2 3   5\n",
    "    1 2   4 5\n",
    "    1   3 4 5\n",
    "    1 2     5\n",
    "    1   3   5\n",
    "    1     4 5\n",
    "    \n",
    "    1 2 3 4 5 6       : 13 arrangements\n",
    "    1   3 4 5 6\n",
    "    1 2   4 5 6\n",
    "    1 2 3   5 6\n",
    "    1 2 3 4   6\n",
    "    1     4 5 6\n",
    "    1 2     5 6\n",
    "    1 2 3     6\n",
    "    1   3   5 6\n",
    "    1 2   4   6\n",
    "    1 2     5 6\n",
    "    1   3     6\n",
    "    1     4   6\n",
    "    \n",
    "From this we can see that if you have $n$ consecutive adjacent integers, then there are $tribonacci(n)$ ways to select them ensuring there is no gap bigger than 3:\n",
    "\n",
    "       n    :  1   2   3   4   5   6   7   8   9\n",
    "    trib(n) :  1   1   2   4   7   13  24  44  81\n",
    "    "
   ]
  },
  {
   "cell_type": "code",
   "execution_count": 73,
   "metadata": {},
   "outputs": [],
   "source": [
    "# build some tribonacci terms to look up, not sure how many we'll need\n",
    "trib = [1, 1, 2]\n",
    "for i in range(40):\n",
    "    trib.append(sum(trib[-3:]))"
   ]
  },
  {
   "cell_type": "code",
   "execution_count": 37,
   "metadata": {},
   "outputs": [
    {
     "data": {
      "text/plain": [
       "[1, 1, 2, 4, 7, 13, 24, 44, 81, 149]"
      ]
     },
     "execution_count": 37,
     "metadata": {},
     "output_type": "execute_result"
    }
   ],
   "source": [
    "trib[:10]"
   ]
  },
  {
   "cell_type": "code",
   "execution_count": 82,
   "metadata": {},
   "outputs": [
    {
     "name": "stdout",
     "output_type": "stream",
     "text": [
      "0\t2\n",
      "2\t4\n",
      "6\t3\n",
      "9\t2\n",
      "11\t2\n",
      "\n",
      "8 total arrangements\n"
     ]
    }
   ],
   "source": [
    "# Data:\n",
    "#  ordered : actual input\n",
    "#  ordered2: given answer is 8\n",
    "#  ordered3: given answer is 19208 \n",
    "\n",
    "vals = ordered2\n",
    "\n",
    "result = 1\n",
    "i = 0\n",
    "\n",
    "while i < len(vals)-1:\n",
    "    print(i, end='\\t')\n",
    "    \n",
    "    # skip 3-gaps\n",
    "    if vals[i+1] - vals[i] == 3:\n",
    "        i += 1\n",
    "    \n",
    "    # if we find a 1-gap, find out how many cons_ecutive terms are 1-gaps\n",
    "    else:\n",
    "        cons = 1\n",
    "        while i+cons < len(vals) and vals[i+cons] - vals[i+cons-1] == 1:\n",
    "            cons += 1\n",
    "        result *= trib[cons-1] # -1 for indexing\n",
    "        i += cons\n",
    "    print(cons)\n",
    "    \n",
    "print()\n",
    "print(f'{result} total arrangements')"
   ]
  },
  {
   "cell_type": "code",
   "execution_count": null,
   "metadata": {},
   "outputs": [],
   "source": []
  }
 ],
 "metadata": {
  "kernelspec": {
   "display_name": "Python 3",
   "language": "python",
   "name": "python3"
  },
  "language_info": {
   "codemirror_mode": {
    "name": "ipython",
    "version": 3
   },
   "file_extension": ".py",
   "mimetype": "text/x-python",
   "name": "python",
   "nbconvert_exporter": "python",
   "pygments_lexer": "ipython3",
   "version": "3.8.3"
  }
 },
 "nbformat": 4,
 "nbformat_minor": 4
}
