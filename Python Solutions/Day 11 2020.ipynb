{
 "cells": [
  {
   "cell_type": "markdown",
   "metadata": {},
   "source": [
    "# Day 11\n",
    "\n",
    "Seating arrangements ~ cellular automata\n",
    "\n",
    "### Part 1\n",
    "\n",
    "Each seat is identified by\n",
    "\n",
    "    '.' == floor\n",
    "    'L' == empty seat\n",
    "    '#' == occupied seat\n",
    "    \n",
    "Every unit of time, every empty seat becomes occupied if nobody is surrounding it (8 surrounding spots), and occupied seats will become unoccupied if 4 or more adjacent spots have occupied seats.  \n",
    "\n",
    "Eventually, everyone will stop moving.  At that time, how many seats are occupied?"
   ]
  },
  {
   "cell_type": "code",
   "execution_count": 1,
   "metadata": {},
   "outputs": [],
   "source": [
    "f = open('day11.txt')\n",
    "seats = f.read().splitlines()\n",
    "f.close()"
   ]
  },
  {
   "cell_type": "code",
   "execution_count": 2,
   "metadata": {},
   "outputs": [
    {
     "data": {
      "text/plain": [
       "['LLLLLLLLL.LLLL.LLLLL.LLLLLLLLLL.LLLLLLLLLLLLLLLL.LLLLLL.LLLLLLLLLLLLLLLLLL.LLLLLLL.LLLLLLLL',\n",
       " 'LLLLLLLLL.LLLL.LLLLLLLLLLLL.LLLLLLLLLLLLL.LLLLLL.LLLLLLLLLLLLLLLLLLLLLLLLLLLLLLLLL.LLLLLLLL',\n",
       " 'LLLLLLLLL.LLLL.LLLLL.LLLLLL.LLLLLLLL.LLLLLLLLLLL.LLLLLLLLLLLLLLL.LLLLLLLLL.LLLLLLL.LLLLLLLL',\n",
       " 'LLLLLLLL..LLLL.LLLLL.LLLLLL.LLLLLLLL.LLLLLLLLLLL.LLLLLL.LLLLLLLL.LLLLLLLLLLLLLLL.LLLLLLLL.L',\n",
       " 'LLLL.LLLLLLLLLLLLLLL.LLLLLLLLLLLLLLLLLLLL.LLLLLL.LLLLLLLLLLLLLLL.LLLLLLLLL.LLLLLLL.LLLLLLLL',\n",
       " 'LLLLLLLLLLLLLLLLLLLL.LLLLLLLLLLLLLLLLLLLL.LLLLLLLLLLLLLLLLLLLLLLLLLLLLLLLL.LLLLLLL.LLLLLLLL',\n",
       " '......L.LL.....L.L..L.....L.L..LL.L.LL.L...L..L..............L..L......LL.....LL...L.L.....',\n",
       " 'LLLLLLLLL.LLLL.LLLLLLLLLLLL.LLLLLLLLLLLLL..LLLLLLLLLLLL.LLLLLLLL.LLLLLLLL..LLLLLLL.LLLLLLLL',\n",
       " 'LLLLLLLLLLLLLL.LLLLL.LLLLLLLLLLLLLLL.LLLLLLLLLLL.LLLLLL.LLLLLLLL.LLLLLLLLL.LLLLLLL.LLLLLLLL',\n",
       " 'LLLLLLLLLLLLLL.LLLLLLLLLLLL.LLLLLLLLLLLLLLLLLLLL.LLLLLL.LLLLLLLL.LLLLLLLLLLLLLLLLL.LLL.LLLL']"
      ]
     },
     "execution_count": 2,
     "metadata": {},
     "output_type": "execute_result"
    }
   ],
   "source": [
    "seats[:10]"
   ]
  },
  {
   "cell_type": "code",
   "execution_count": 3,
   "metadata": {},
   "outputs": [],
   "source": [
    "steps = 0\n",
    "current = [list(row) for row in seats]\n",
    "rMax = len(current)\n",
    "cMax = len(current[0])\n",
    "next_seats = [['' for i in range(cMax)] for j in range(rMax)]\n",
    "\n",
    "while True:\n",
    "    steps += 1\n",
    "    for row in range(rMax):\n",
    "        for col in range(cMax):\n",
    "            \n",
    "            # find which adjacent spots to check\n",
    "            toCheck = [(row-1, col-1), (row-1, col), (row-1, col+1),\n",
    "                       (row, col-1), (row, col+1),\n",
    "                       (row+1, col-1), (row+1, col), (row+1, col+1)]\n",
    "            badlocs = []\n",
    "            for loc in toCheck:\n",
    "                y, x = loc\n",
    "                if (x < 0) or (y < 0) or (x >= cMax) or (y >= rMax):\n",
    "                    badlocs.append(loc)\n",
    "            toCheck = [loc for loc in toCheck if loc not in badlocs] # locations\n",
    "            nearby = [current[tc[0]][tc[1]] for tc in toCheck]       # things at the locations\n",
    "            \n",
    "            # update the location we're at based on what's around it\n",
    "            if current[row][col] == 'L':\n",
    "                if nearby.count('#') == 0:\n",
    "                    next_seats[row][col] = '#'\n",
    "                    continue\n",
    "            if current[row][col] == '#':\n",
    "                if nearby.count('#') >= 4:\n",
    "                    next_seats[row][col] = 'L'\n",
    "                    continue\n",
    "            \n",
    "            # if nothing changed, or floor, place the same piece into the next_seats grid\n",
    "            next_seats[row][col] = current[row][col]\n",
    "    \n",
    "    # the next_seats grid is complete; if no change, done, otherwise, do it again\n",
    "    if next_seats == current:\n",
    "        break\n",
    "    else:\n",
    "        current = next_seats\n",
    "        next_seats = [['' for i in range(cMax)] for j in range(rMax)]"
   ]
  },
  {
   "cell_type": "code",
   "execution_count": 4,
   "metadata": {},
   "outputs": [
    {
     "data": {
      "text/plain": [
       "94"
      ]
     },
     "execution_count": 4,
     "metadata": {},
     "output_type": "execute_result"
    }
   ],
   "source": [
    "steps"
   ]
  },
  {
   "cell_type": "code",
   "execution_count": 5,
   "metadata": {},
   "outputs": [
    {
     "data": {
      "text/plain": [
       "2275"
      ]
     },
     "execution_count": 5,
     "metadata": {},
     "output_type": "execute_result"
    }
   ],
   "source": [
    "total = 0\n",
    "for row in current:\n",
    "    total += row.count('#')\n",
    "total"
   ]
  },
  {
   "cell_type": "markdown",
   "metadata": {},
   "source": [
    "### Part 2\n",
    "\n",
    "Instead, we should check the *first visible chair in each of the eight directions* to inform the seat's decision.  \n",
    "\n",
    "Also, it now takes 5 visible people to cause a person to move, not 4.  \n",
    "\n",
    "Now how many seats are occupied when everyone stops moving?"
   ]
  },
  {
   "cell_type": "code",
   "execution_count": null,
   "metadata": {},
   "outputs": [],
   "source": [
    "# # To check the sample data, uncomment this box and change \"seats\" in the\n",
    "# #  first line below to sample\n",
    "\n",
    "# sample = ['L.LL.LL.LL',\n",
    "# 'LLLLLLL.LL',\n",
    "# 'L.L.L..L..',\n",
    "# 'LLLL.LL.LL',\n",
    "# 'L.LL.LL.LL',\n",
    "# 'L.LLLLL.LL',\n",
    "# '..L.L.....',\n",
    "# 'LLLLLLLLLL',\n",
    "# 'L.LLLLLL.L',\n",
    "# 'L.LLLLL.LL']\n"
   ]
  },
  {
   "cell_type": "code",
   "execution_count": 6,
   "metadata": {},
   "outputs": [],
   "source": [
    "current = [list(row) for row in seats]\n",
    "rMax = len(current)\n",
    "cMax = len(current[0])\n",
    "next_seats = [['' for i in range(cMax)] for j in range(rMax)]\n",
    "steps2 = 0\n",
    "\n",
    "while True:\n",
    "    steps2 += 1\n",
    "    for row in range(rMax):\n",
    "        for col in range(cMax):\n",
    "            \n",
    "            # find the visible seats in the 8 directions\n",
    "            vis = []\n",
    "            for dirs in [(-1,-1), (-1,0), (-1,1), (0,-1), (0,1), (1,-1), (1,0), (1,1)]:\n",
    "                r, c = row + dirs[0], col + dirs[1]\n",
    "                while (r >= 0) and (c >= 0) and (c < cMax) and (r < rMax):\n",
    "                    if current[r][c] != '.':\n",
    "                        vis.append(current[r][c])\n",
    "                        break\n",
    "                    r, c = r + dirs[0], c + dirs[1]\n",
    "                    \n",
    "            # update the location we're at based on what's around it\n",
    "            if current[row][col] == 'L':\n",
    "                if all([v != '#' for v in vis]):\n",
    "                    next_seats[row][col] = '#'\n",
    "                    continue\n",
    "            if current[row][col] == '#':\n",
    "                if sum([v == '#' for v in vis]) >= 5:\n",
    "                    next_seats[row][col] = 'L'\n",
    "                    continue\n",
    "\n",
    "            # if nothing changed, or floor, place the same piece into the next_seats grid\n",
    "            next_seats[row][col] = current[row][col]\n",
    "            \n",
    "    # the next_seats grid is complete; if no change, done, otherwise, do it again\n",
    "    if next_seats == current:\n",
    "        break\n",
    "    else:\n",
    "        current = next_seats\n",
    "        next_seats = [['' for i in range(cMax)] for j in range(rMax)]"
   ]
  },
  {
   "cell_type": "code",
   "execution_count": 7,
   "metadata": {},
   "outputs": [
    {
     "data": {
      "text/plain": [
       "2121"
      ]
     },
     "execution_count": 7,
     "metadata": {},
     "output_type": "execute_result"
    }
   ],
   "source": [
    "total2 = 0\n",
    "for row in current:\n",
    "    total2 += row.count('#')\n",
    "total2"
   ]
  },
  {
   "cell_type": "code",
   "execution_count": 8,
   "metadata": {},
   "outputs": [
    {
     "data": {
      "text/plain": [
       "86"
      ]
     },
     "execution_count": 8,
     "metadata": {},
     "output_type": "execute_result"
    }
   ],
   "source": [
    "steps2"
   ]
  },
  {
   "cell_type": "code",
   "execution_count": null,
   "metadata": {},
   "outputs": [],
   "source": []
  }
 ],
 "metadata": {
  "kernelspec": {
   "display_name": "Python 3",
   "language": "python",
   "name": "python3"
  },
  "language_info": {
   "codemirror_mode": {
    "name": "ipython",
    "version": 3
   },
   "file_extension": ".py",
   "mimetype": "text/x-python",
   "name": "python",
   "nbconvert_exporter": "python",
   "pygments_lexer": "ipython3",
   "version": "3.8.3"
  }
 },
 "nbformat": 4,
 "nbformat_minor": 4
}
