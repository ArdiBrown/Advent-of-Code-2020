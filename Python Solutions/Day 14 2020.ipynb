{
 "cells": [
  {
   "cell_type": "markdown",
   "metadata": {},
   "source": [
    "# Day 14\n",
    "\n",
    "## Part 1\n",
    "Given is a list of masks and values to write to locations in memory.\n",
    "\n",
    "Line by line, each time we see a mask, that is the new mask, and that mask will overwrite the 36-bit binary version of the value being assigned to memory.  If the mask has a 0 or 1, that is the new bit in the value, it the mask has an X, leave the original bit.\n",
    "\n",
    "After masking all the values and assigning them to memory, what is the sum of all values assigned to memory?"
   ]
  },
  {
   "cell_type": "code",
   "execution_count": 1,
   "metadata": {},
   "outputs": [],
   "source": [
    "f = open('day14.txt')\n",
    "prog = f.read().splitlines()\n",
    "f.close()"
   ]
  },
  {
   "cell_type": "code",
   "execution_count": 2,
   "metadata": {},
   "outputs": [
    {
     "data": {
      "text/plain": [
       "['mask = X100110110X011000101000101XX11001X11',\n",
       " 'mem[5201] = 1838761',\n",
       " 'mem[32099] = 25747352',\n",
       " 'mem[36565] = 72187',\n",
       " 'mem[31494] = 369864',\n",
       " 'mem[17260] = 3138',\n",
       " 'mem[64903] = 91484814',\n",
       " 'mask = 0X00100101000XX0011110X10110X100X010',\n",
       " 'mem[54866] = 120526',\n",
       " 'mem[57614] = 430839']"
      ]
     },
     "execution_count": 2,
     "metadata": {},
     "output_type": "execute_result"
    }
   ],
   "source": [
    "prog[:10]"
   ]
  },
  {
   "cell_type": "code",
   "execution_count": 3,
   "metadata": {},
   "outputs": [
    {
     "data": {
      "text/plain": [
       "64"
      ]
     },
     "execution_count": 3,
     "metadata": {},
     "output_type": "execute_result"
    }
   ],
   "source": [
    "def applyMask(mask, val):\n",
    "    newVal = bin(val)[2:]  # convert to binary\n",
    "    newVal = '0'*(36-len(newVal)) + newVal   # add leading 0s\n",
    "    maskedVal = ''.join([newVal[i] if mask[i] == 'X' else mask[i] for i in range(36)])   # apply the mask\n",
    "    return int(maskedVal, 2)  # return the base_10 value to be written to memory\n",
    "\n",
    "applyMask('XXXXXXXXXXXXXXXXXXXXXXXXXXXXX1XXXX0X', 0)"
   ]
  },
  {
   "cell_type": "code",
   "execution_count": 4,
   "metadata": {},
   "outputs": [],
   "source": [
    "known = {}\n",
    "for i, line in enumerate(prog):\n",
    "    if line[:4] == 'mask':\n",
    "        mask = line.split(' = ')[1]\n",
    "    else:\n",
    "        loc, val = line.split(' = ')\n",
    "        loc = int(loc[4:-1])\n",
    "        val = int(val)\n",
    "        newVal = applyMask(mask, val)\n",
    "        known[loc] = newVal"
   ]
  },
  {
   "cell_type": "code",
   "execution_count": 5,
   "metadata": {},
   "outputs": [
    {
     "data": {
      "text/plain": [
       "6559449933360"
      ]
     },
     "execution_count": 5,
     "metadata": {},
     "output_type": "execute_result"
    }
   ],
   "source": [
    "sum(known.values())"
   ]
  },
  {
   "cell_type": "markdown",
   "metadata": {},
   "source": [
    "## Part 2\n",
    "\n",
    "Now, the masks are modifying the locations in memory, not the values.  \n",
    "\n",
    "    0: leave that bit alone\n",
    "    1: change the mem bit to 1\n",
    "    X: leave as X, can take on either 0 or 1, all possible combos of mem address should take on the new val\n",
    "\n",
    "#### Example\n",
    "\n",
    "    mask = 000000000000000000000000000000X1001X\n",
    "    mem[42] = 100\n",
    "    mask = 00000000000000000000000000000000X0XX\n",
    "    mem[26] = 1\n",
    "    \n",
    "    should give answer of 208\n",
    "    \n",
    "In the first mem write above, mask has 2 X's, so there are 4 possible combos the X's could take on (00, 01, 10, 11), and we want to write the value of 100 to all 4 of them.  The second write has a mask with 3 X's, so there are 8 different locations we'll write the value of 1 to memory."
   ]
  },
  {
   "cell_type": "code",
   "execution_count": 6,
   "metadata": {},
   "outputs": [
    {
     "data": {
      "text/plain": [
       "[42, 34359738410]"
      ]
     },
     "execution_count": 6,
     "metadata": {},
     "output_type": "execute_result"
    }
   ],
   "source": [
    "def applyMask2(mask, memloc):\n",
    "    # convert loc to binary with leading 0s\n",
    "    loc = bin(memloc)[2:]\n",
    "    loc = '0'*(36-len(loc)) + loc\n",
    "    \n",
    "    # apply mask to the loc, leaving in Xs\n",
    "    maskedloc = ''\n",
    "    for i in range(36):\n",
    "        curr = mask[i]\n",
    "        if curr == '0':\n",
    "            maskedloc += loc[i]\n",
    "        elif curr == '1':\n",
    "            maskedloc += '1'\n",
    "        else:\n",
    "            maskedloc += 'X'\n",
    "            \n",
    "    # get all possible locs (all binary combos possible for Xs)\n",
    "    locs = []\n",
    "    xcount = maskedloc.count('X')\n",
    "    for i in range(2**xcount):\n",
    "        ml = maskedloc[:]  # make a copy of masked loc so we can modify it\n",
    "        insert = bin(i)[2:]  # create binary string of vals to be inserted\n",
    "        insert = '0'*(xcount-len(insert)) + insert  # add leading zeros\n",
    "        for j in range(len(insert)):\n",
    "            ml = ml.replace('X', insert[j], 1)  # replace Xs one at a time\n",
    "        locs.append(int(ml, 2))\n",
    "        \n",
    "    # return the list of locations in memory we need to write to\n",
    "    return list(set(locs))\n",
    "\n",
    "applyMask2('X000000000000000000000000000000000000', 42)"
   ]
  },
  {
   "cell_type": "code",
   "execution_count": 7,
   "metadata": {},
   "outputs": [],
   "source": [
    "def getAnswer(data):\n",
    "    known2 = {}\n",
    "    for i, line in enumerate(data):\n",
    "        if line[:4] == 'mask':\n",
    "            mask = line.split(' = ')[1]\n",
    "        else:\n",
    "            loc, val = line.split(' = ')\n",
    "            loc = int(loc[4:-1])\n",
    "            val = int(val)\n",
    "            newlocs = applyMask2(mask, loc)\n",
    "            #print(newlocs)\n",
    "            for nl in newlocs:\n",
    "                known2[nl] = val\n",
    "    return sum(known2.values())"
   ]
  },
  {
   "cell_type": "code",
   "execution_count": 8,
   "metadata": {},
   "outputs": [],
   "source": [
    "sample1 = ['mask = 000000000000000000000000000000X1001X',\n",
    "'mem[42] = 100',\n",
    "'mask = 00000000000000000000000000000000X0XX',\n",
    "'mem[26] = 1']"
   ]
  },
  {
   "cell_type": "code",
   "execution_count": 9,
   "metadata": {},
   "outputs": [
    {
     "data": {
      "text/plain": [
       "208"
      ]
     },
     "execution_count": 9,
     "metadata": {},
     "output_type": "execute_result"
    }
   ],
   "source": [
    "getAnswer(sample1)"
   ]
  },
  {
   "cell_type": "code",
   "execution_count": 10,
   "metadata": {},
   "outputs": [
    {
     "data": {
      "text/plain": [
       "3369767240513"
      ]
     },
     "execution_count": 10,
     "metadata": {},
     "output_type": "execute_result"
    }
   ],
   "source": [
    "getAnswer(prog)"
   ]
  },
  {
   "cell_type": "code",
   "execution_count": null,
   "metadata": {},
   "outputs": [],
   "source": []
  }
 ],
 "metadata": {
  "kernelspec": {
   "display_name": "Python 3",
   "language": "python",
   "name": "python3"
  },
  "language_info": {
   "codemirror_mode": {
    "name": "ipython",
    "version": 3
   },
   "file_extension": ".py",
   "mimetype": "text/x-python",
   "name": "python",
   "nbconvert_exporter": "python",
   "pygments_lexer": "ipython3",
   "version": "3.8.3"
  }
 },
 "nbformat": 4,
 "nbformat_minor": 4
}
