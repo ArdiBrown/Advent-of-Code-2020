{
 "cells": [
  {
   "cell_type": "markdown",
   "metadata": {},
   "source": [
    "# Day 15\n",
    "\n",
    "Playing a memory game with the elves.\n",
    "\n",
    "### Part 1\n",
    "\n",
    "In this game, the players take turns saying numbers. They begin by taking turns reading from a list of starting numbers (your puzzle input). Then, each turn consists of considering the most recently spoken number:\n",
    "\n",
    "If that was the first time the number has been spoken, the current player says 0.  \n",
    "Otherwise, the number had been spoken before; the current player announces how many turns apart the number is from when it was previously spoken.\n",
    "\n",
    "Given the starting numbers (input), what is the 2020th number spoken?\n",
    "\n",
    "(This sequence is in the OEIS:  https://oeis.org/A181391)"
   ]
  },
  {
   "cell_type": "code",
   "execution_count": 1,
   "metadata": {},
   "outputs": [],
   "source": [
    "# my problem input\n",
    "data1 = [8,0,17,4,1,12]"
   ]
  },
  {
   "cell_type": "code",
   "execution_count": 2,
   "metadata": {},
   "outputs": [],
   "source": [
    "def findnth(n, data):\n",
    "    # initialize a dict to hold indices we've seen each val\n",
    "    # since 0 is special, need a starter for it\n",
    "    locs = {0:[]}\n",
    "    \n",
    "    # put initial numbers in dict\n",
    "    for i, val in enumerate(data):\n",
    "        locs[val] = [i]\n",
    "    \n",
    "    # If we've only seen the number once before, that means it \n",
    "    #  was the most recent number, so go with a 0 next.\n",
    "    # If we've seen the number before, find distance from one\n",
    "    #  number ago (i-1) and prev occurrance before that ([-2]),\n",
    "    #  two occurrences ago.\n",
    "    \n",
    "    last = data[-1]\n",
    "    i = len(data)\n",
    "    while i < n:\n",
    "        if len(locs[last]) == 1:\n",
    "            last = 0\n",
    "            locs[0].append(i)\n",
    "        else:\n",
    "            last = i - 1 - locs[last][-2] # last = dist here\n",
    "            if last not in locs:\n",
    "                locs[last] = [i]\n",
    "            else:\n",
    "                locs[last].append(i)\n",
    "        i += 1\n",
    "    return last\n",
    "        "
   ]
  },
  {
   "cell_type": "code",
   "execution_count": 3,
   "metadata": {},
   "outputs": [
    {
     "data": {
      "text/plain": [
       "1836"
      ]
     },
     "execution_count": 3,
     "metadata": {},
     "output_type": "execute_result"
    }
   ],
   "source": [
    "# sample data should give 1836\n",
    "data2 = [3, 1, 2]\n",
    "findnth(2020, data2)"
   ]
  },
  {
   "cell_type": "code",
   "execution_count": 4,
   "metadata": {},
   "outputs": [
    {
     "data": {
      "text/plain": [
       "981"
      ]
     },
     "execution_count": 4,
     "metadata": {},
     "output_type": "execute_result"
    }
   ],
   "source": [
    "findnth(2020, data1)"
   ]
  },
  {
   "cell_type": "markdown",
   "metadata": {},
   "source": [
    "### Part 2\n",
    "\n",
    "(Lame) Instead, find the 30,000,000th value"
   ]
  },
  {
   "cell_type": "code",
   "execution_count": 5,
   "metadata": {},
   "outputs": [
    {
     "data": {
      "text/plain": [
       "164878"
      ]
     },
     "execution_count": 5,
     "metadata": {},
     "output_type": "execute_result"
    }
   ],
   "source": [
    "findnth(30000000, data1)"
   ]
  },
  {
   "cell_type": "code",
   "execution_count": 6,
   "metadata": {},
   "outputs": [
    {
     "name": "stdout",
     "output_type": "stream",
     "text": [
      "17.3 s ± 432 ms per loop (mean ± std. dev. of 7 runs, 1 loop each)\n"
     ]
    }
   ],
   "source": [
    "%%timeit\n",
    "findnth(30000000, data1)"
   ]
  },
  {
   "cell_type": "code",
   "execution_count": null,
   "metadata": {},
   "outputs": [],
   "source": []
  }
 ],
 "metadata": {
  "kernelspec": {
   "display_name": "Python 3",
   "language": "python",
   "name": "python3"
  },
  "language_info": {
   "codemirror_mode": {
    "name": "ipython",
    "version": 3
   },
   "file_extension": ".py",
   "mimetype": "text/x-python",
   "name": "python",
   "nbconvert_exporter": "python",
   "pygments_lexer": "ipython3",
   "version": "3.8.3"
  }
 },
 "nbformat": 4,
 "nbformat_minor": 4
}
