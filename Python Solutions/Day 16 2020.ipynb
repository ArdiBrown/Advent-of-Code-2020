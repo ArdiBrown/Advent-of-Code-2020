{
 "cells": [
  {
   "cell_type": "markdown",
   "metadata": {},
   "source": [
    "# Day 16\n",
    "\n",
    "You can't read your train ticket, but you know what the 20 field represent, and you know what values are valid for the fields.\n",
    "\n",
    "### Part 1\n",
    "\n",
    "Determine the sum of all values on all scanned tickets that don't match any field (class)."
   ]
  },
  {
   "cell_type": "code",
   "execution_count": 1,
   "metadata": {},
   "outputs": [],
   "source": [
    "f = open('day16.txt')\n",
    "info = f.read().splitlines()\n",
    "f.close()"
   ]
  },
  {
   "cell_type": "code",
   "execution_count": 2,
   "metadata": {},
   "outputs": [
    {
     "data": {
      "text/plain": [
       "['departure location: 32-209 or 234-963',\n",
       " 'departure station: 47-64 or 83-967',\n",
       " 'departure platform: 37-609 or 628-970',\n",
       " 'departure track: 29-546 or 567-971',\n",
       " 'departure date: 50-795 or 816-960',\n",
       " 'departure time: 49-736 or 750-962',\n",
       " 'arrival location: 48-399 or 420-967',\n",
       " 'arrival station: 49-353 or 360-967',\n",
       " 'arrival platform: 37-275 or 298-969',\n",
       " 'arrival track: 40-119 or 127-954',\n",
       " 'class: 35-750 or 760-968',\n",
       " 'duration: 43-162 or 186-963',\n",
       " 'price: 30-889 or 914-949',\n",
       " 'route: 39-266 or 274-950',\n",
       " 'row: 45-366 or 389-954',\n",
       " 'seat: 42-765 or 772-955',\n",
       " 'train: 30-494 or 518-957',\n",
       " 'type: 48-822 or 835-973',\n",
       " 'wagon: 32-330 or 342-951',\n",
       " 'zone: 36-455 or 462-973',\n",
       " '',\n",
       " 'your ticket:',\n",
       " '109,137,131,157,191,103,127,53,107,151,61,59,139,83,101,149,89,193,113,97',\n",
       " '',\n",
       " 'nearby tickets:',\n",
       " '141,889,637,661,351,108,544,424,330,479,662,448,152,584,408,736,714,299,61,864',\n",
       " '692,855,843,361,21,265,678,716,347,531,56,792,492,656,727,848,149,596,887,862',\n",
       " '819,139,202,774,606,242,646,653,298,111,881,937,118,600,423,354,780,249,639,301',\n",
       " '938,258,482,697,640,678,946,349,153,198,707,601,925,601,677,307,925,840,870,177',\n",
       " '119,724,442,993,137,394,85,673,609,862,631,92,545,591,104,451,130,603,94,946']"
      ]
     },
     "execution_count": 2,
     "metadata": {},
     "output_type": "execute_result"
    }
   ],
   "source": [
    "info[:30]"
   ]
  },
  {
   "cell_type": "markdown",
   "metadata": {},
   "source": [
    "#### Parse puzzle input into three parts"
   ]
  },
  {
   "cell_type": "code",
   "execution_count": 3,
   "metadata": {},
   "outputs": [
    {
     "name": "stdout",
     "output_type": "stream",
     "text": [
      "[109, 137, 131, 157, 191, 103, 127, 53, 107, 151, 61, 59, 139, 83, 101, 149, 89, 193, 113, 97]\n"
     ]
    }
   ],
   "source": [
    "# get class intervals\n",
    "i = 0\n",
    "classes = []\n",
    "while info[i] != '':\n",
    "    line = info[i]\n",
    "    int1, int2 = line[line.index(':')+1:].split(' or ')\n",
    "    classes.append(([int(x) for x in int1.split('-')], [int(x) for x in int2.split('-')]))\n",
    "    i += 1\n",
    "i += 2\n",
    "\n",
    "# get my ticket information\n",
    "myticket = [int(x) for x in info[i].split(',')]\n",
    "print(myticket)\n",
    "i += 3\n",
    "\n",
    "# get scanned ticket information\n",
    "tickets = []\n",
    "while i < len(info):\n",
    "    tickets.append([int(x) for x in info[i].split(',')])\n",
    "    i += 1"
   ]
  },
  {
   "cell_type": "code",
   "execution_count": 4,
   "metadata": {},
   "outputs": [
    {
     "data": {
      "text/plain": [
       "[([32, 209], [234, 963]),\n",
       " ([47, 64], [83, 967]),\n",
       " ([37, 609], [628, 970]),\n",
       " ([29, 546], [567, 971]),\n",
       " ([50, 795], [816, 960])]"
      ]
     },
     "execution_count": 4,
     "metadata": {},
     "output_type": "execute_result"
    }
   ],
   "source": [
    "classes[:5]"
   ]
  },
  {
   "cell_type": "code",
   "execution_count": 5,
   "metadata": {},
   "outputs": [
    {
     "data": {
      "text/plain": [
       "[[32, 209], [234, 963], [47, 64], [83, 967], [37, 609]]"
      ]
     },
     "execution_count": 5,
     "metadata": {},
     "output_type": "execute_result"
    }
   ],
   "source": [
    "# flatten the classes for this part, ticket vals need to match any class\n",
    "allclasses = [classes[j][i] for j in range(len(classes)) for i in range(2)]\n",
    "allclasses[:5]"
   ]
  },
  {
   "cell_type": "code",
   "execution_count": 6,
   "metadata": {},
   "outputs": [
    {
     "data": {
      "text/plain": [
       "236"
      ]
     },
     "execution_count": 6,
     "metadata": {},
     "output_type": "execute_result"
    }
   ],
   "source": [
    "# at first I was stupid and looking to count how many tickets contained an invalid value\n",
    "invcount = 0\n",
    "for t in tickets:\n",
    "    invalid = False\n",
    "    i = 0\n",
    "    while i < len(t):\n",
    "        if any([c[0] > t[i] or c[1] < t[i] for c in allclasses]):\n",
    "            invalid = True\n",
    "            break\n",
    "        else:\n",
    "            i += 1\n",
    "    if invalid:\n",
    "        invcount += 1\n",
    "invcount"
   ]
  },
  {
   "cell_type": "code",
   "execution_count": 7,
   "metadata": {},
   "outputs": [
    {
     "data": {
      "text/plain": [
       "19060"
      ]
     },
     "execution_count": 7,
     "metadata": {},
     "output_type": "execute_result"
    }
   ],
   "source": [
    "# actual Part 1 solution\n",
    "err = 0\n",
    "for t in tickets:\n",
    "    for val in t:\n",
    "        if any([c[0] <= val and c[1] >= val for c in allclasses]):\n",
    "            continue\n",
    "        else:\n",
    "            err += val\n",
    "err"
   ]
  },
  {
   "cell_type": "markdown",
   "metadata": {},
   "source": [
    "### Part 2\n",
    "\n",
    "Now, remove all the invalid tickets, and use the valid tickets to determine which values correspond to which fields. All the tickets have the same order, including mine, so for example, perhaps the 3rd value on every ticket indicates the price.\n",
    "\n",
    "Determine in which order the values on each ticket correspond to the available fields.\n",
    "\n",
    "Then, find the product of the 6 \"departure\" values on your ticket (first 6)."
   ]
  },
  {
   "cell_type": "code",
   "execution_count": 8,
   "metadata": {},
   "outputs": [],
   "source": [
    "# remove invalid\n",
    "bad = []\n",
    "for t in tickets:\n",
    "    for val in t:\n",
    "        if any([c[0] <= val and c[1] >= val for c in allclasses]):\n",
    "            continue\n",
    "        else:\n",
    "            bad.append(t)\n",
    "goodtix = [t for t in tickets if t not in bad]"
   ]
  },
  {
   "cell_type": "code",
   "execution_count": 9,
   "metadata": {},
   "outputs": [],
   "source": [
    "avail = classes[:]   # copy classes to avail so we can modify it\n",
    "order = {}\n",
    "unclaimed = list(range(len(goodtix[0])))   # ticket indices we haven't matched yet\n",
    "\n",
    "while unclaimed:\n",
    "    for i in unclaimed:\n",
    "        vals = [t[i] for t in goodtix]   # get i_th val from every ticket\n",
    "        goodavailind = []\n",
    "        for aind, a in enumerate(avail):\n",
    "            if all([(a[0][0] <= v <= a[0][1]) or (a[1][0] <= v <= a[1][1]) for v in vals]):\n",
    "                goodavailind.append(aind)\n",
    "        if len(goodavailind) == 1:   # only want to claim a match if its the only possible match\n",
    "            aind = goodavailind[0]\n",
    "            order[aind] = i   # put match in final dict\n",
    "            avail[aind] = [[-1,-1],[-1,-1]]   # prevent this class from being matched again\n",
    "            unclaimed.remove(i)   # prevent the i_th val on each tix from being checked again\n",
    "            break\n",
    "                "
   ]
  },
  {
   "cell_type": "code",
   "execution_count": 10,
   "metadata": {},
   "outputs": [
    {
     "data": {
      "text/plain": [
       "{14: 7,\n",
       " 8: 10,\n",
       " 10: 15,\n",
       " 17: 6,\n",
       " 19: 12,\n",
       " 7: 1,\n",
       " 1: 11,\n",
       " 2: 17,\n",
       " 0: 5,\n",
       " 4: 14,\n",
       " 5: 13,\n",
       " 3: 19,\n",
       " 13: 18,\n",
       " 16: 16,\n",
       " 15: 3,\n",
       " 6: 0,\n",
       " 12: 9,\n",
       " 18: 2,\n",
       " 9: 4,\n",
       " 11: 8}"
      ]
     },
     "execution_count": 10,
     "metadata": {},
     "output_type": "execute_result"
    }
   ],
   "source": [
    "order\n",
    "# index of fields as given: index on each ticket the fields info can be found"
   ]
  },
  {
   "cell_type": "code",
   "execution_count": 11,
   "metadata": {},
   "outputs": [
    {
     "data": {
      "text/plain": [
       "953713095011"
      ]
     },
     "execution_count": 11,
     "metadata": {},
     "output_type": "execute_result"
    }
   ],
   "source": [
    "ans = 1\n",
    "for i in range(6):\n",
    "    ans *= myticket[order[i]]\n",
    "ans"
   ]
  },
  {
   "cell_type": "code",
   "execution_count": null,
   "metadata": {},
   "outputs": [],
   "source": []
  }
 ],
 "metadata": {
  "kernelspec": {
   "display_name": "Python 3",
   "language": "python",
   "name": "python3"
  },
  "language_info": {
   "codemirror_mode": {
    "name": "ipython",
    "version": 3
   },
   "file_extension": ".py",
   "mimetype": "text/x-python",
   "name": "python",
   "nbconvert_exporter": "python",
   "pygments_lexer": "ipython3",
   "version": "3.8.3"
  }
 },
 "nbformat": 4,
 "nbformat_minor": 4
}
