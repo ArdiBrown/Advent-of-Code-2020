{
 "cells": [
  {
   "cell_type": "markdown",
   "metadata": {},
   "source": [
    "# Day 2"
   ]
  },
  {
   "cell_type": "markdown",
   "metadata": {},
   "source": [
    "### Part 1\n",
    "\n",
    "How many of the passwords contain the letter in the given range?\n",
    "\n",
    "Example:\n",
    "  \n",
    "    1-2 x: xpxc\n",
    "    \n",
    "This asks \"does the password xpxc contain an x somewhere between the first and second slot?\""
   ]
  },
  {
   "cell_type": "code",
   "execution_count": 1,
   "metadata": {},
   "outputs": [
    {
     "data": {
      "text/plain": [
       "['1-2 x: xpxc',\n",
       " '1-5 b: bwlbbbbcq',\n",
       " '3-5 v: qvjjdhvl',\n",
       " '9-12 t: ttfjvvtgxtctrntnhtt',\n",
       " '3-4 r: rqjw']"
      ]
     },
     "execution_count": 1,
     "metadata": {},
     "output_type": "execute_result"
    }
   ],
   "source": [
    "f = open('day2.txt')\n",
    "stuff = f.readlines()\n",
    "f.close()\n",
    "\n",
    "# remove newlines\n",
    "stuff = [line.strip() for line in stuff]\n",
    "\n",
    "# convert to int\n",
    "#stuff = [int(x) for x in stuff]\n",
    "\n",
    "stuff[:5]"
   ]
  },
  {
   "cell_type": "code",
   "execution_count": 2,
   "metadata": {},
   "outputs": [
    {
     "data": {
      "text/plain": [
       "556"
      ]
     },
     "execution_count": 2,
     "metadata": {},
     "output_type": "execute_result"
    }
   ],
   "source": [
    "count = 0\n",
    "for row in stuff:\n",
    "    row = row.split(' ')\n",
    "    span, char, pw = row\n",
    "    lower, upper = map(int, span.split('-'))\n",
    "    char = char[0]\n",
    "    if lower <= pw.count(char) <= upper:\n",
    "        count += 1\n",
    "count    "
   ]
  },
  {
   "cell_type": "markdown",
   "metadata": {},
   "source": [
    "### Part 2\n",
    "\n",
    "Instead, find the passwords that have the desired letter at exactly the lower bound or upper bound but not both."
   ]
  },
  {
   "cell_type": "code",
   "execution_count": 3,
   "metadata": {},
   "outputs": [
    {
     "data": {
      "text/plain": [
       "605"
      ]
     },
     "execution_count": 3,
     "metadata": {},
     "output_type": "execute_result"
    }
   ],
   "source": [
    "count = 0\n",
    "for row in stuff:\n",
    "    row = row.split(' ')\n",
    "    span, char, pw = row\n",
    "    lower, upper = map(int, span.split('-'))\n",
    "    char = char[0]\n",
    "    if (pw[lower-1] == char and pw[upper-1] != char) or (pw[lower-1] != char and pw[upper-1] == char):\n",
    "        count += 1\n",
    "count    "
   ]
  },
  {
   "cell_type": "code",
   "execution_count": null,
   "metadata": {},
   "outputs": [],
   "source": []
  }
 ],
 "metadata": {
  "kernelspec": {
   "display_name": "Python 3",
   "language": "python",
   "name": "python3"
  },
  "language_info": {
   "codemirror_mode": {
    "name": "ipython",
    "version": 3
   },
   "file_extension": ".py",
   "mimetype": "text/x-python",
   "name": "python",
   "nbconvert_exporter": "python",
   "pygments_lexer": "ipython3",
   "version": "3.8.3"
  }
 },
 "nbformat": 4,
 "nbformat_minor": 4
}
