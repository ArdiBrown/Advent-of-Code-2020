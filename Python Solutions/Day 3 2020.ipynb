{
 "cells": [
  {
   "cell_type": "markdown",
   "metadata": {},
   "source": [
    "# Day 3\n",
    "\n",
    "Skiing through the trees!\n",
    "\n",
    "Starting from top left and going to the bottom row, with the grid repeating horzontally:\n",
    "\n",
    "### Part 1\n",
    "How many trees will you hit with a slope of right 3, down 1?\n",
    "\n",
    "### Part 2\n",
    "Find number of trees hit for 5 different slopes, find their product."
   ]
  },
  {
   "cell_type": "code",
   "execution_count": 1,
   "metadata": {},
   "outputs": [
    {
     "data": {
      "text/plain": [
       "['.#..#.....#....##..............',\n",
       " '...#.#...#...#.#..........#....',\n",
       " '#...###...#.#.....#.##.#.#...#.',\n",
       " '#.....#.#...##....#...#...#....',\n",
       " '##.......##.#.....#........##.#']"
      ]
     },
     "execution_count": 1,
     "metadata": {},
     "output_type": "execute_result"
    }
   ],
   "source": [
    "f = open('day3.txt')\n",
    "stuff = f.readlines()\n",
    "f.close()\n",
    "\n",
    "stuff = [line.strip() for line in stuff]\n",
    "stuff[:5]"
   ]
  },
  {
   "cell_type": "code",
   "execution_count": 2,
   "metadata": {},
   "outputs": [
    {
     "data": {
      "text/plain": [
       "323"
      ]
     },
     "execution_count": 2,
     "metadata": {},
     "output_type": "execute_result"
    }
   ],
   "source": [
    "len(stuff)"
   ]
  },
  {
   "cell_type": "code",
   "execution_count": 3,
   "metadata": {},
   "outputs": [
    {
     "data": {
      "text/plain": [
       "289"
      ]
     },
     "execution_count": 3,
     "metadata": {},
     "output_type": "execute_result"
    }
   ],
   "source": [
    "tree = 0\n",
    "i, j = 0, 0\n",
    "while i < len(stuff):\n",
    "    if stuff[i][j] == '#':\n",
    "        tree += 1\n",
    "    i += 1\n",
    "    j = (j+3) % len(stuff[0])\n",
    "    \n",
    "tree"
   ]
  },
  {
   "cell_type": "code",
   "execution_count": 4,
   "metadata": {},
   "outputs": [
    {
     "data": {
      "text/plain": [
       "5522401584"
      ]
     },
     "execution_count": 4,
     "metadata": {},
     "output_type": "execute_result"
    }
   ],
   "source": [
    "mx = [1, 3, 5, 7, 1]\n",
    "my = [1, 1, 1, 1, 2]\n",
    "treeprod = 1\n",
    "for m in range(5):\n",
    "    x = mx[m]\n",
    "    y = my[m]\n",
    "    tree = 0\n",
    "    i, j = 0, 0\n",
    "    while i < len(stuff):\n",
    "        if stuff[i][j] == '#':\n",
    "            tree += 1\n",
    "        i += y\n",
    "        j = (j+x) % len(stuff[0])\n",
    "    treeprod *= tree\n",
    "treeprod"
   ]
  },
  {
   "cell_type": "code",
   "execution_count": null,
   "metadata": {},
   "outputs": [],
   "source": []
  }
 ],
 "metadata": {
  "kernelspec": {
   "display_name": "Python 3",
   "language": "python",
   "name": "python3"
  },
  "language_info": {
   "codemirror_mode": {
    "name": "ipython",
    "version": 3
   },
   "file_extension": ".py",
   "mimetype": "text/x-python",
   "name": "python",
   "nbconvert_exporter": "python",
   "pygments_lexer": "ipython3",
   "version": "3.8.3"
  }
 },
 "nbformat": 4,
 "nbformat_minor": 4
}
