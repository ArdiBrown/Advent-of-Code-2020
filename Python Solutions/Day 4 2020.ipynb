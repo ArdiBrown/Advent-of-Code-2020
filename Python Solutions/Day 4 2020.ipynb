{
 "cells": [
  {
   "cell_type": "markdown",
   "metadata": {},
   "source": [
    "# Day 4\n",
    "\n",
    "### Part 1\n",
    "\n",
    "How many passports have all required fields?"
   ]
  },
  {
   "cell_type": "code",
   "execution_count": 2,
   "metadata": {},
   "outputs": [
    {
     "data": {
      "text/plain": [
       "['hcl:#866857 pid:983640144 hgt:61cm',\n",
       " 'ecl:hzl',\n",
       " 'byr:1991',\n",
       " 'iyr:1930 eyr:2024',\n",
       " '',\n",
       " 'ecl:oth hcl:#602927 eyr:2025 iyr:2013 hgt:151cm byr:1992 pid:812583062']"
      ]
     },
     "execution_count": 2,
     "metadata": {},
     "output_type": "execute_result"
    }
   ],
   "source": [
    "f = open('day4.txt')\n",
    "stuff = f.readlines()\n",
    "f.close()\n",
    "\n",
    "# remove newlines\n",
    "stuff = [line.strip() for line in stuff]\n",
    "\n",
    "# convert to int\n",
    "#stuff = [int(x) for x in stuff]\n",
    "\n",
    "stuff[-6:]"
   ]
  },
  {
   "cell_type": "code",
   "execution_count": 6,
   "metadata": {},
   "outputs": [
    {
     "data": {
      "text/plain": [
       "1097"
      ]
     },
     "execution_count": 6,
     "metadata": {},
     "output_type": "execute_result"
    }
   ],
   "source": [
    "# number of lines in input, but lines per passport varies\n",
    "len(stuff)"
   ]
  },
  {
   "cell_type": "code",
   "execution_count": 7,
   "metadata": {},
   "outputs": [],
   "source": [
    "# the for loop below depends on finding a '' at the end of each passport\n",
    "stuff.append('')"
   ]
  },
  {
   "cell_type": "code",
   "execution_count": 8,
   "metadata": {},
   "outputs": [
    {
     "data": {
      "text/plain": [
       "292"
      ]
     },
     "execution_count": 8,
     "metadata": {},
     "output_type": "execute_result"
    }
   ],
   "source": [
    "# number of passports\n",
    "stuff.count('')"
   ]
  },
  {
   "cell_type": "markdown",
   "metadata": {},
   "source": [
    "##### Sample\n",
    "Should show valid, invalid, valid, invalid  \n",
    "\n",
    "Uncomment this to overwrite \"stuff\""
   ]
  },
  {
   "cell_type": "code",
   "execution_count": 72,
   "metadata": {},
   "outputs": [],
   "source": [
    "# stuff = ['ecl:gry pid:860033327 eyr:2020 hcl:#fffffd',\n",
    "# 'byr:1937 iyr:2017 cid:147 hgt:183cm',\n",
    "# '',\n",
    "# 'iyr:2013 ecl:amb cid:350 eyr:2023 pid:028048884',\n",
    "# 'hcl:#cfa07d byr:1929',\n",
    "# '',\n",
    "# 'hcl:#ae17e1 iyr:2013',\n",
    "# 'eyr:2024',\n",
    "# 'ecl:brn pid:760753108 byr:1931',\n",
    "# 'hgt:179cm',\n",
    "# '',\n",
    "# 'hcl:#cfa07d eyr:2025 pid:166559648',\n",
    "# 'iyr:2011 ecl:brn hgt:59in',\n",
    "# '']"
   ]
  },
  {
   "cell_type": "code",
   "execution_count": 12,
   "metadata": {},
   "outputs": [
    {
     "data": {
      "text/plain": [
       "''"
      ]
     },
     "execution_count": 12,
     "metadata": {},
     "output_type": "execute_result"
    }
   ],
   "source": [
    "# move lines around so one line = one passport\n",
    "pps = []\n",
    "pp = ''\n",
    "for i, line in enumerate(stuff):\n",
    "    if line == '':\n",
    "        pps.append(pp)\n",
    "        pp = ''\n",
    "    else:\n",
    "        pp += line + ' '\n",
    "pp"
   ]
  },
  {
   "cell_type": "code",
   "execution_count": 13,
   "metadata": {},
   "outputs": [
    {
     "data": {
      "text/plain": [
       "['eyr:2027 hcl:#602927 hgt:186cm byr:1939 iyr:2019 pid:552194973 ecl:hzl ',\n",
       " 'pid:657988073 eyr:2020 byr:1996 ecl:brn hcl:#866857 iyr:2015 hgt:164cm ',\n",
       " 'hcl:#fffffd byr:1951 cid:321 iyr:2017 eyr:2022 ecl:brn hgt:62in pid:#6ef4e1 ',\n",
       " 'eyr:2025 iyr:2011 byr:1980 hcl:#fffffd cid:129 pid:420023864 hgt:150cm ecl:brn ',\n",
       " 'eyr:2029 hcl:#ceb3a1 hgt:187cm byr:1925 ecl:amb pid:223151011 iyr:2016 ']"
      ]
     },
     "execution_count": 13,
     "metadata": {},
     "output_type": "execute_result"
    }
   ],
   "source": [
    "pps[:5]"
   ]
  },
  {
   "cell_type": "code",
   "execution_count": 14,
   "metadata": {},
   "outputs": [],
   "source": [
    "# convert each passport string into its own dict; make a list of passport dicts\n",
    "ppdList = []\n",
    "for pp in pps:\n",
    "    ppd = {}\n",
    "    pp = pp.split(' ')\n",
    "    for part in pp:\n",
    "        if ':' in part:\n",
    "            k, v = part.split(':')\n",
    "            ppd[k] = v\n",
    "    ppdList.append(ppd)"
   ]
  },
  {
   "cell_type": "code",
   "execution_count": 15,
   "metadata": {},
   "outputs": [
    {
     "data": {
      "text/plain": [
       "[{'eyr': '2027',\n",
       "  'hcl': '#602927',\n",
       "  'hgt': '186cm',\n",
       "  'byr': '1939',\n",
       "  'iyr': '2019',\n",
       "  'pid': '552194973',\n",
       "  'ecl': 'hzl'},\n",
       " {'pid': '657988073',\n",
       "  'eyr': '2020',\n",
       "  'byr': '1996',\n",
       "  'ecl': 'brn',\n",
       "  'hcl': '#866857',\n",
       "  'iyr': '2015',\n",
       "  'hgt': '164cm'}]"
      ]
     },
     "execution_count": 15,
     "metadata": {},
     "output_type": "execute_result"
    }
   ],
   "source": [
    "ppdList[:2]"
   ]
  },
  {
   "cell_type": "code",
   "execution_count": 17,
   "metadata": {},
   "outputs": [],
   "source": [
    "features = sorted(['hcl', 'pid', 'hgt', 'ecl', 'byr', 'iyr', 'eyr'])\n",
    "features2 = sorted(features + ['cid'])\n",
    "valid = 0\n",
    "for ppd in ppdList:\n",
    "    keys = sorted(list(set(ppd.keys())))\n",
    "    if keys == features or keys == features2:\n",
    "        valid += 1\n",
    "        #print(f'valid:   \\t{keys}')\n",
    "    #else:\n",
    "        #print(f'invalid: \\t{keys}')"
   ]
  },
  {
   "cell_type": "code",
   "execution_count": 18,
   "metadata": {},
   "outputs": [
    {
     "data": {
      "text/plain": [
       "235"
      ]
     },
     "execution_count": 18,
     "metadata": {},
     "output_type": "execute_result"
    }
   ],
   "source": [
    "valid"
   ]
  },
  {
   "cell_type": "markdown",
   "metadata": {},
   "source": [
    "### Part 2\n",
    "How many passports have valid data?\n",
    "\n",
    "    byr (Birth Year) - four digits; at least 1920 and at most 2002.\n",
    "    iyr (Issue Year) - four digits; at least 2010 and at most 2020.\n",
    "    eyr (Expiration Year) - four digits; at least 2020 and at most 2030.\n",
    "    hgt (Height) - a number followed by either cm or in:\n",
    "    If cm, the number must be at least 150 and at most 193.\n",
    "    If in, the number must be at least 59 and at most 76.\n",
    "    hcl (Hair Color) - a # followed by exactly six characters 0-9 or a-f.\n",
    "    ecl (Eye Color) - exactly one of: amb blu brn gry grn hzl oth.\n",
    "    pid (Passport ID) - a nine-digit number, including leading zeroes.\n",
    "    cid (Country ID) - ignored, missing or not."
   ]
  },
  {
   "cell_type": "code",
   "execution_count": 22,
   "metadata": {},
   "outputs": [],
   "source": [
    "def isValid(ppd):\n",
    "    \n",
    "    # check if all required fields are present first (like part 1)\n",
    "    if not (sorted(ppd.keys()) == features or sorted(ppd.keys()) == features2):\n",
    "        return 'type 1'\n",
    "    \n",
    "    by = int(ppd['byr'])\n",
    "    if by < 1920 or by > 2002:\n",
    "        return 'birth year error'\n",
    "    \n",
    "    iy = int(ppd['iyr'])\n",
    "    if iy < 2010 or iy > 2020:\n",
    "        return 'issue year error'\n",
    "    \n",
    "    ey = int(ppd['eyr'])\n",
    "    if ey < 2020 or ey > 2030:\n",
    "        return 'exp year error'\n",
    "    \n",
    "    hgtstr = ppd['hgt']\n",
    "    if 'cm' in hgtstr:\n",
    "        hgt = int(hgtstr[:-2])\n",
    "        if hgt < 150 or hgt > 193:\n",
    "            return 'height cm error'\n",
    "    elif 'in' in hgtstr:\n",
    "        hgt = int(hgtstr[:-2])\n",
    "        if hgt < 59 or hgt > 76:\n",
    "            return 'height in error'\n",
    "    elif 'cm' not in hgtstr and 'in' not in hgtstr:\n",
    "        return 'height no units error'\n",
    "    \n",
    "    hcl = ppd['hcl']\n",
    "    if not (hcl[0] == '#' and len(hcl) == 7 and all([char in '0123456789abcdef' for char in list(hcl[1:])])):\n",
    "        return 'hair color error'\n",
    "    \n",
    "    ecl = ppd['ecl']\n",
    "    if ecl not in ['amb', 'blu', 'brn', 'gry', 'grn', 'hzl', 'oth']:\n",
    "        return 'eye color error'\n",
    "    \n",
    "    pid = ppd['pid']\n",
    "    if not (len(pid) == 9 and all([char in '0123456789' for char in list(pid)])):\n",
    "        return 'passport id error'\n",
    "    \n",
    "    # 0 is a success here\n",
    "    return 0\n",
    "    "
   ]
  },
  {
   "cell_type": "code",
   "execution_count": 23,
   "metadata": {},
   "outputs": [
    {
     "data": {
      "text/plain": [
       "[0,\n",
       " 0,\n",
       " 'passport id error',\n",
       " 0,\n",
       " 0,\n",
       " 0,\n",
       " 'type 1',\n",
       " 'issue year error',\n",
       " 'hair color error',\n",
       " 'type 1']"
      ]
     },
     "execution_count": 23,
     "metadata": {},
     "output_type": "execute_result"
    }
   ],
   "source": [
    "checks = [isValid(ppd) for ppd in ppdList]\n",
    "checks[:10]"
   ]
  },
  {
   "cell_type": "code",
   "execution_count": 24,
   "metadata": {},
   "outputs": [
    {
     "data": {
      "text/plain": [
       "194"
      ]
     },
     "execution_count": 24,
     "metadata": {},
     "output_type": "execute_result"
    }
   ],
   "source": [
    "checks.count(0)"
   ]
  },
  {
   "cell_type": "code",
   "execution_count": 25,
   "metadata": {},
   "outputs": [
    {
     "data": {
      "text/plain": [
       "57"
      ]
     },
     "execution_count": 25,
     "metadata": {},
     "output_type": "execute_result"
    }
   ],
   "source": [
    "checks.count('type 1')"
   ]
  },
  {
   "cell_type": "code",
   "execution_count": 26,
   "metadata": {},
   "outputs": [
    {
     "data": {
      "text/plain": [
       "234"
      ]
     },
     "execution_count": 26,
     "metadata": {},
     "output_type": "execute_result"
    }
   ],
   "source": [
    "290-56"
   ]
  },
  {
   "cell_type": "code",
   "execution_count": null,
   "metadata": {},
   "outputs": [],
   "source": []
  }
 ],
 "metadata": {
  "kernelspec": {
   "display_name": "Python 3",
   "language": "python",
   "name": "python3"
  },
  "language_info": {
   "codemirror_mode": {
    "name": "ipython",
    "version": 3
   },
   "file_extension": ".py",
   "mimetype": "text/x-python",
   "name": "python",
   "nbconvert_exporter": "python",
   "pygments_lexer": "ipython3",
   "version": "3.8.3"
  }
 },
 "nbformat": 4,
 "nbformat_minor": 4
}
