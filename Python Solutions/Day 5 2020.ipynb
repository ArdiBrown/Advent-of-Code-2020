{
 "cells": [
  {
   "cell_type": "markdown",
   "metadata": {},
   "source": [
    "# Day 5\n",
    "\n",
    "Seat locations are in binary!\n",
    "\n",
    "### Part 1\n",
    "Find the passport with the largest ID"
   ]
  },
  {
   "cell_type": "code",
   "execution_count": 3,
   "metadata": {},
   "outputs": [],
   "source": [
    "f = open('day5.txt')\n",
    "bps = f.readlines()\n",
    "f.close()"
   ]
  },
  {
   "cell_type": "code",
   "execution_count": 4,
   "metadata": {},
   "outputs": [
    {
     "data": {
      "text/plain": [
       "['BFBBBFBLRR', 'BBFFFFFLRR', 'BFBFBFFRLR', 'FBBBBFFLLL', 'BFBBBBFRRL']"
      ]
     },
     "execution_count": 4,
     "metadata": {},
     "output_type": "execute_result"
    }
   ],
   "source": [
    "bps = [bp.strip() for bp in bps]\n",
    "bps[:5]"
   ]
  },
  {
   "cell_type": "code",
   "execution_count": 5,
   "metadata": {},
   "outputs": [],
   "source": [
    "def findSeat(bp):\n",
    "    bf = bp[:7]\n",
    "    lr = bp[7:]\n",
    "    \n",
    "    bf = bf.replace('B', '1')\n",
    "    bf = bf.replace('F', '0')\n",
    "    row = int(bf, 2)\n",
    "    \n",
    "    lr = lr.replace('L', '0')\n",
    "    lr = lr.replace('R', '1')\n",
    "    col = int(lr, 2)\n",
    "        \n",
    "    ID = row*8 + col\n",
    "    \n",
    "    return (row, col, ID)"
   ]
  },
  {
   "cell_type": "markdown",
   "metadata": {},
   "source": [
    "Here are some other boarding passes:  \n",
    "  \n",
    "BFFFBBFRRR: row 70, column 7, seat ID 567.  \n",
    "FFFBBBFRRR: row 14, column 7, seat ID 119.  \n",
    "BBFFBBFRLL: row 102, column 4, seat ID 820.  "
   ]
  },
  {
   "cell_type": "code",
   "execution_count": 6,
   "metadata": {},
   "outputs": [],
   "source": [
    "tests = ['BFFFBBFRRR','FFFBBBFRRR','BBFFBBFRLL']"
   ]
  },
  {
   "cell_type": "code",
   "execution_count": 7,
   "metadata": {},
   "outputs": [
    {
     "name": "stdout",
     "output_type": "stream",
     "text": [
      "(70, 7, 567)\n",
      "(14, 7, 119)\n",
      "(102, 4, 820)\n"
     ]
    }
   ],
   "source": [
    "for test in tests:\n",
    "    print(findSeat(test))"
   ]
  },
  {
   "cell_type": "code",
   "execution_count": 8,
   "metadata": {},
   "outputs": [],
   "source": [
    "allSeats = [findSeat(bp) for bp in bps]"
   ]
  },
  {
   "cell_type": "code",
   "execution_count": 9,
   "metadata": {},
   "outputs": [
    {
     "data": {
      "text/plain": [
       "(100, 1, 801)"
      ]
     },
     "execution_count": 9,
     "metadata": {},
     "output_type": "execute_result"
    }
   ],
   "source": [
    "max(allSeats, key=lambda x: x[2])"
   ]
  },
  {
   "cell_type": "markdown",
   "metadata": {},
   "source": [
    "## Part 2\n",
    "\n",
    "We don't have our boarding pass, and its a full flight, so our seat is the last one.  Find the seat with an ID that is missing that *does* have a matched ID one above and one below the ID value."
   ]
  },
  {
   "cell_type": "code",
   "execution_count": 10,
   "metadata": {},
   "outputs": [],
   "source": [
    "check = sorted(allSeats, key=lambda x:x[2])"
   ]
  },
  {
   "cell_type": "code",
   "execution_count": 16,
   "metadata": {},
   "outputs": [
    {
     "data": {
      "text/plain": [
       "[(5, 0, 40), (5, 1, 41), (5, 2, 42), (5, 3, 43), (5, 4, 44)]"
      ]
     },
     "execution_count": 16,
     "metadata": {},
     "output_type": "execute_result"
    }
   ],
   "source": [
    "check[:5]"
   ]
  },
  {
   "cell_type": "code",
   "execution_count": 17,
   "metadata": {},
   "outputs": [
    {
     "data": {
      "text/plain": [
       "[(99, 5, 797), (99, 6, 798), (99, 7, 799), (100, 0, 800), (100, 1, 801)]"
      ]
     },
     "execution_count": 17,
     "metadata": {},
     "output_type": "execute_result"
    }
   ],
   "source": [
    "check[-5:]"
   ]
  },
  {
   "cell_type": "code",
   "execution_count": 18,
   "metadata": {},
   "outputs": [
    {
     "data": {
      "text/plain": [
       "(40, 801)"
      ]
     },
     "execution_count": 18,
     "metadata": {},
     "output_type": "execute_result"
    }
   ],
   "source": [
    "scores = [x[2] for x in check]\n",
    "lowScore = check[0][2]\n",
    "highScore = check[-1][2]\n",
    "lowScore, highScore"
   ]
  },
  {
   "cell_type": "code",
   "execution_count": 19,
   "metadata": {},
   "outputs": [
    {
     "name": "stdout",
     "output_type": "stream",
     "text": [
      "597\n"
     ]
    }
   ],
   "source": [
    "for i in range(lowScore + 1, highScore):\n",
    "    if i not in scores and i-1 in scores and i+1 in scores:\n",
    "        print(i)"
   ]
  },
  {
   "cell_type": "code",
   "execution_count": null,
   "metadata": {},
   "outputs": [],
   "source": []
  }
 ],
 "metadata": {
  "kernelspec": {
   "display_name": "Python 3",
   "language": "python",
   "name": "python3"
  },
  "language_info": {
   "codemirror_mode": {
    "name": "ipython",
    "version": 3
   },
   "file_extension": ".py",
   "mimetype": "text/x-python",
   "name": "python",
   "nbconvert_exporter": "python",
   "pygments_lexer": "ipython3",
   "version": "3.8.3"
  }
 },
 "nbformat": 4,
 "nbformat_minor": 4
}
