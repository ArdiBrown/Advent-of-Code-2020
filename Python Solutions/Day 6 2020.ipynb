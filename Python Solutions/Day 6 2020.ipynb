{
 "cells": [
  {
   "cell_type": "markdown",
   "metadata": {},
   "source": [
    "# Day 6\n",
    "\n",
    "Families are filling out customs declaration forms with 26 questions, a-z.  Letters given are the questions they said \"yes\" to, one string for each member of each family.\n",
    "\n",
    "### Part 1\n",
    "Find the questions that *anyone* in the group said yes to - sum those counts across all groups."
   ]
  },
  {
   "cell_type": "code",
   "execution_count": 7,
   "metadata": {},
   "outputs": [],
   "source": [
    "f = open('day6.txt')\n",
    "qs = f.readlines()\n",
    "f.close()"
   ]
  },
  {
   "cell_type": "code",
   "execution_count": 8,
   "metadata": {},
   "outputs": [],
   "source": [
    "qs = [q.strip() for q in qs]"
   ]
  },
  {
   "cell_type": "code",
   "execution_count": 9,
   "metadata": {},
   "outputs": [
    {
     "data": {
      "text/plain": [
       "['jmqnkzlsfedaptx', 'usjfkadqwmeyilph', '', 'lodbmhvcaset', 'wcognbeaxhmvdt']"
      ]
     },
     "execution_count": 9,
     "metadata": {},
     "output_type": "execute_result"
    }
   ],
   "source": [
    "qs[:5]"
   ]
  },
  {
   "cell_type": "code",
   "execution_count": 10,
   "metadata": {},
   "outputs": [
    {
     "data": {
      "text/plain": [
       "6437"
      ]
     },
     "execution_count": 10,
     "metadata": {},
     "output_type": "execute_result"
    }
   ],
   "source": [
    "counts = 0\n",
    "current = ''\n",
    "for i, q in enumerate(qs):\n",
    "    if q == '': # new family - document the old one, start a new one\n",
    "        counts += len(list(set(list(current))))\n",
    "        current = ''\n",
    "    else: # \n",
    "        current += q\n",
    "counts += len(list(set(list(current))))\n",
    "counts"
   ]
  },
  {
   "cell_type": "markdown",
   "metadata": {},
   "source": [
    "### Part 2\n",
    "Find the questions that *everyone* in the group said yes to - sum those counts across all groups."
   ]
  },
  {
   "cell_type": "code",
   "execution_count": 11,
   "metadata": {},
   "outputs": [],
   "source": [
    "# can't just mash a whole family's answers together in part one, \n",
    "#  need to group each family's responses\n",
    "groups = []\n",
    "current = []\n",
    "for i, q in enumerate(qs):\n",
    "    if q == '':\n",
    "        groups.append(current)\n",
    "        current = []\n",
    "    else:\n",
    "        current.append(q)\n",
    "groups.append(current)"
   ]
  },
  {
   "cell_type": "code",
   "execution_count": 12,
   "metadata": {},
   "outputs": [
    {
     "data": {
      "text/plain": [
       "[['jmqnkzlsfedaptx', 'usjfkadqwmeyilph'],\n",
       " ['lodbmhvcaset', 'wcognbeaxhmvdt'],\n",
       " ['f', 'f', 'f', 'f'],\n",
       " ['dwxfircztpyshol',\n",
       "  'dogfryaxtlhzscw',\n",
       "  'gwchdzyftolsxra',\n",
       "  'thrdwcxfosqzyl',\n",
       "  'rholzdwctxfsy'],\n",
       " ['dbifho', 'zmdh', 'hobd']]"
      ]
     },
     "execution_count": 12,
     "metadata": {},
     "output_type": "execute_result"
    }
   ],
   "source": [
    "groups[:5]"
   ]
  },
  {
   "cell_type": "code",
   "execution_count": 13,
   "metadata": {},
   "outputs": [],
   "source": [
    "count = 0\n",
    "for g in groups:\n",
    "    total = ''.join(g)\n",
    "    totalunique = ''.join(list(set(list(total))))\n",
    "    count += len([char for char in totalunique if all([char in person for person in g])])\n"
   ]
  },
  {
   "cell_type": "code",
   "execution_count": 14,
   "metadata": {},
   "outputs": [
    {
     "data": {
      "text/plain": [
       "3229"
      ]
     },
     "execution_count": 14,
     "metadata": {},
     "output_type": "execute_result"
    }
   ],
   "source": [
    "count"
   ]
  },
  {
   "cell_type": "code",
   "execution_count": null,
   "metadata": {},
   "outputs": [],
   "source": []
  }
 ],
 "metadata": {
  "kernelspec": {
   "display_name": "Python 3",
   "language": "python",
   "name": "python3"
  },
  "language_info": {
   "codemirror_mode": {
    "name": "ipython",
    "version": 3
   },
   "file_extension": ".py",
   "mimetype": "text/x-python",
   "name": "python",
   "nbconvert_exporter": "python",
   "pygments_lexer": "ipython3",
   "version": "3.8.3"
  }
 },
 "nbformat": 4,
 "nbformat_minor": 4
}
