{
 "cells": [
  {
   "cell_type": "markdown",
   "metadata": {},
   "source": [
    "# Day 7\n",
    "\n",
    "There are lot of rules about what types of bags must be contained by which bags.  \n",
    "\n",
    "### Part 1\n",
    "Determine how many *different colors of bags* could contain a ***shiny gold*** bag.\n",
    "\n",
    "### Part 2\n",
    "Determine how many *bags* must be contained by a ***shiny gold*** bag."
   ]
  },
  {
   "cell_type": "markdown",
   "metadata": {},
   "source": [
    "#### Read and Parse Input"
   ]
  },
  {
   "cell_type": "code",
   "execution_count": 1,
   "metadata": {},
   "outputs": [],
   "source": [
    "f = open('day7.txt')\n",
    "bags = f.readlines()\n",
    "bags = [bag.strip() for bag in bags]\n",
    "f.close()"
   ]
  },
  {
   "cell_type": "code",
   "execution_count": 2,
   "metadata": {},
   "outputs": [
    {
     "data": {
      "text/plain": [
       "['posh brown bags contain 5 dim coral bags, 1 plaid blue bag, 2 faded bronze bags, 2 light black bags.',\n",
       " 'vibrant lime bags contain 3 dull lavender bags, 3 dim crimson bags, 3 mirrored lavender bags, 2 muted cyan bags.',\n",
       " 'clear olive bags contain 1 wavy gold bag, 4 dim lime bags, 3 dull tomato bags, 5 dark turquoise bags.',\n",
       " 'dark purple bags contain 5 striped tan bags, 5 bright cyan bags, 3 dark indigo bags.',\n",
       " 'posh maroon bags contain 3 bright salmon bags.']"
      ]
     },
     "execution_count": 2,
     "metadata": {},
     "output_type": "execute_result"
    }
   ],
   "source": [
    "bags[:5]"
   ]
  },
  {
   "cell_type": "markdown",
   "metadata": {},
   "source": [
    "**Sample 1**  \n",
    "Uncomment this block to use this sample instead of the actual data.  \n",
    "\n",
    "This sample should show an answer of \"4 colors of bags\" for Part 1 and \"shiny gold contains 32 bags\" for Part 2."
   ]
  },
  {
   "cell_type": "code",
   "execution_count": 3,
   "metadata": {},
   "outputs": [],
   "source": [
    "# sample = ['light red bags contain 1 bright white bag, 2 muted yellow bags.',\n",
    "# 'dark orange bags contain 3 bright white bags, 4 muted yellow bags.',\n",
    "# 'bright white bags contain 1 shiny gold bag.',\n",
    "# 'muted yellow bags contain 2 shiny gold bags, 9 faded blue bags.',\n",
    "# 'shiny gold bags contain 1 dark olive bag, 2 vibrant plum bags.',\n",
    "# 'dark olive bags contain 3 faded blue bags, 4 dotted black bags.',\n",
    "# 'vibrant plum bags contain 5 faded blue bags, 6 dotted black bags.',\n",
    "# 'faded blue bags contain no other bags.',\n",
    "# 'dotted black bags contain no other bags.']\n",
    "\n",
    "# bags = sample"
   ]
  },
  {
   "cell_type": "code",
   "execution_count": 4,
   "metadata": {},
   "outputs": [],
   "source": [
    "def parseBag(s):\n",
    "    bag, contains = s.split('contain ')\n",
    "    \n",
    "    bag = bag.split(' ')\n",
    "    bag = ' '.join(bag[:-2])\n",
    "    \n",
    "    contains = contains.split(', ')\n",
    "    inside = []\n",
    "    for thing in contains:\n",
    "        sp_thing = thing.split(' ')\n",
    "        if sp_thing[0] == 'no':\n",
    "            continue\n",
    "        count = int(sp_thing[0])\n",
    "        name = sp_thing[1] + ' ' + sp_thing[2]\n",
    "        inside.append([count, name])\n",
    "    \n",
    "    return (bag, inside)"
   ]
  },
  {
   "cell_type": "code",
   "execution_count": 5,
   "metadata": {},
   "outputs": [
    {
     "name": "stdout",
     "output_type": "stream",
     "text": [
      "('posh brown', [[5, 'dim coral'], [1, 'plaid blue'], [2, 'faded bronze'], [2, 'light black']])\n",
      "('vibrant lime', [[3, 'dull lavender'], [3, 'dim crimson'], [3, 'mirrored lavender'], [2, 'muted cyan']])\n",
      "('clear olive', [[1, 'wavy gold'], [4, 'dim lime'], [3, 'dull tomato'], [5, 'dark turquoise']])\n"
     ]
    }
   ],
   "source": [
    "for bag in bags[:3]:\n",
    "    print(parseBag(bag))"
   ]
  },
  {
   "cell_type": "markdown",
   "metadata": {},
   "source": [
    "### Build dicts to hold three relationships:\n",
    "1. containments in goodBagDict\n",
    "2. parent to child is in parentDict\n",
    "3. child to parent is in childDict\n",
    "\n",
    "I don't think I actually use parentDict...but I think I \"sort of\" needed it to make childDict."
   ]
  },
  {
   "cell_type": "code",
   "execution_count": 6,
   "metadata": {},
   "outputs": [],
   "source": [
    "goodBags = [parseBag(bag) for bag in bags]\n",
    "goodBagDict = {k:v for k, v in goodBags}"
   ]
  },
  {
   "cell_type": "code",
   "execution_count": 7,
   "metadata": {},
   "outputs": [],
   "source": [
    "# Get list of parents and dict where parents are keys\n",
    "parents = [gb[0] for gb in goodBags]\n",
    "parentDict= {p:[] for p in parents}\n",
    "for gb in goodBags:\n",
    "    for c in gb[1]:\n",
    "        parentDict[gb[0]].append(c[1])"
   ]
  },
  {
   "cell_type": "code",
   "execution_count": 8,
   "metadata": {},
   "outputs": [],
   "source": [
    "# Get list of children and dict where children are keys\n",
    "children = []\n",
    "for p in parentDict:\n",
    "    for c in parentDict[p]:\n",
    "        children.append(c)\n",
    "children = list(set(children))\n",
    "childDict = {c:[] for c in children}\n",
    "for gb in goodBags:\n",
    "    for c in gb[1]:\n",
    "        childDict[c[1]].append(gb[0])"
   ]
  },
  {
   "cell_type": "code",
   "execution_count": 9,
   "metadata": {},
   "outputs": [],
   "source": [
    "allBags = list(set(children + parents))"
   ]
  },
  {
   "cell_type": "markdown",
   "metadata": {},
   "source": [
    "## Part 1\n",
    "How many different colored bags could hold a ***shiny gold***?"
   ]
  },
  {
   "cell_type": "code",
   "execution_count": 10,
   "metadata": {},
   "outputs": [],
   "source": [
    "toCheck = ['shiny gold']\n",
    "holdsGold = [0 for i in range(len(allBags))]\n",
    "\n",
    "while toCheck != []:\n",
    "    newBags = [] # will hold all of the next layer up\n",
    "    for bag in toCheck:\n",
    "        holdsGold[allBags.index(bag)] = 1 # we've seen it now\n",
    "        if bag in childDict:  # if it has any parents\n",
    "            pars = childDict[bag]\n",
    "            for par in pars:\n",
    "                if holdsGold[allBags.index(par)] == 0: # and if those parents haven't been seen\n",
    "                    newBags.append(par) # put the parent into the next round\n",
    "    toCheck += newBags # add in the new bags\n",
    "    for bag in toCheck: # remove anything we've already seen\n",
    "        if holdsGold[allBags.index(bag)] == 1:\n",
    "            toCheck.remove(bag)"
   ]
  },
  {
   "cell_type": "code",
   "execution_count": 11,
   "metadata": {},
   "outputs": [
    {
     "data": {
      "text/plain": [
       "238"
      ]
     },
     "execution_count": 11,
     "metadata": {},
     "output_type": "execute_result"
    }
   ],
   "source": [
    "# holdsGold will have a \"1\" for shiny gold, but it doesn't contain itself\n",
    "sum(holdsGold) - 1"
   ]
  },
  {
   "cell_type": "markdown",
   "metadata": {},
   "source": [
    "## Part 2\n",
    "How many bags must be contained within a single shiny gold bag?  \n",
    "\n",
    "This is sort of backwards of part 1 - part 1 was \"how many colors of bag could *contain* a shiny gold\", now its \"how many bags are *contained by* a shiny gold\"."
   ]
  },
  {
   "cell_type": "markdown",
   "metadata": {},
   "source": [
    "**Sample 2**  \n",
    "This cell below will overwrite all the necessary variables to be associated with this sample.  \n",
    "Correct answer to Part 2 is \"162 bags contained by one shiny gold\"."
   ]
  },
  {
   "cell_type": "code",
   "execution_count": 12,
   "metadata": {},
   "outputs": [],
   "source": [
    "# sample2 = ['shiny gold bags contain 2 dark red bags.',\n",
    "# 'dark red bags contain 2 dark orange bags.',\n",
    "# 'dark orange bags contain 2 dark yellow bags.',\n",
    "# 'dark yellow bags contain 2 dark green bags.',\n",
    "# 'dark green bags contain 2 dark blue bags.',\n",
    "# 'dark blue bags contain 2 dark violet bags.',\n",
    "# 'dark violet bags contain no other bags.']\n",
    "\n",
    "# goodBags = [parseBag(bag) for bag in sample2]\n",
    "# parents = [gb[0] for gb in goodBags]\n",
    "# parentDict= {p:[] for p in parents}\n",
    "# for gb in goodBags:\n",
    "#     for c in gb[1]:\n",
    "#         parentDict[gb[0]].append(c[1])\n",
    "# children = []\n",
    "# for p in parentDict:\n",
    "#     for c in parentDict[p]:\n",
    "#         children.append(c)\n",
    "# children = list(set(children))\n",
    "# childDict = {c:[] for c in children}\n",
    "# for gb in goodBags:\n",
    "#     for c in gb[1]:\n",
    "#         childDict[c[1]].append(gb[0])\n",
    "# allBags = list(set(children + parents))\n",
    "# goodBagDict = {k:v for k, v in goodBags}"
   ]
  },
  {
   "cell_type": "markdown",
   "metadata": {},
   "source": [
    "##### Yay recursion"
   ]
  },
  {
   "cell_type": "code",
   "execution_count": 13,
   "metadata": {},
   "outputs": [],
   "source": [
    "def getContains(bag):\n",
    "    kids = goodBagDict[bag]\n",
    "    total = 0\n",
    "    if kids == []:\n",
    "        return 0\n",
    "    for kid in kids:\n",
    "        total += kid[0]*(getContains(kid[1]) + 1)\n",
    "    return total"
   ]
  },
  {
   "cell_type": "code",
   "execution_count": 14,
   "metadata": {},
   "outputs": [
    {
     "data": {
      "text/plain": [
       "82930"
      ]
     },
     "execution_count": 14,
     "metadata": {},
     "output_type": "execute_result"
    }
   ],
   "source": [
    "getContains('shiny gold')"
   ]
  },
  {
   "cell_type": "code",
   "execution_count": null,
   "metadata": {},
   "outputs": [],
   "source": []
  }
 ],
 "metadata": {
  "kernelspec": {
   "display_name": "Python 3",
   "language": "python",
   "name": "python3"
  },
  "language_info": {
   "codemirror_mode": {
    "name": "ipython",
    "version": 3
   },
   "file_extension": ".py",
   "mimetype": "text/x-python",
   "name": "python",
   "nbconvert_exporter": "python",
   "pygments_lexer": "ipython3",
   "version": "3.8.3"
  }
 },
 "nbformat": 4,
 "nbformat_minor": 4
}
