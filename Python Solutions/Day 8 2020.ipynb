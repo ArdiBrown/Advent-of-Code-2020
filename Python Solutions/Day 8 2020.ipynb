{
 "cells": [
  {
   "cell_type": "markdown",
   "metadata": {},
   "source": [
    "# Day 8\n",
    "\n",
    "Some code is stuck in an infinite loop.  \n",
    "It consists of 3 instructions with arguments.  \n",
    "\n",
    "Examples: \n",
    "\n",
    "    nop +0      # does nothing, executes next line (arg doesn't matter)\n",
    "    jmp +7      # moves to the instruction 7 lines later (jmp +1 == nop +0)\n",
    "    acc +4      # increases a global variable by 4 (accumulator, which starts at 0)\n",
    "    \n",
    "### Part 1\n",
    "The program is stuck in an infinite loop.  Determine the value of the accumulator as the program is about to run a line of the code for a second time.  \n",
    "\n",
    "### Part 2\n",
    "The code is supposed to terminate by attempting to run the line of code immediately past the final line.  Its been determined that the error is caused either by a *jmp* instruction being a *nop* or vice versa.  Find the line with the incorrect *jmp/nop*; determine the value of the accumulator when the fixed program terminates."
   ]
  },
  {
   "cell_type": "code",
   "execution_count": 17,
   "metadata": {},
   "outputs": [],
   "source": [
    "f = open('day8.txt')\n",
    "program = f.readlines()\n",
    "f.close()\n",
    "program = [line.strip() for line in program]"
   ]
  },
  {
   "cell_type": "code",
   "execution_count": 18,
   "metadata": {},
   "outputs": [
    {
     "data": {
      "text/plain": [
       "['acc -8', 'jmp +5', 'acc +0', 'acc +44', 'acc +42']"
      ]
     },
     "execution_count": 18,
     "metadata": {},
     "output_type": "execute_result"
    }
   ],
   "source": [
    "program[:5]"
   ]
  },
  {
   "cell_type": "code",
   "execution_count": 19,
   "metadata": {},
   "outputs": [],
   "source": [
    "# sample = ['nop +0',\n",
    "# 'acc +1',\n",
    "# 'jmp +4',\n",
    "# 'acc +3',\n",
    "# 'jmp -3',\n",
    "# 'acc -99',\n",
    "# 'acc +1',\n",
    "# 'jmp -4',\n",
    "# 'acc +6']\n",
    "# program = sample"
   ]
  },
  {
   "cell_type": "markdown",
   "metadata": {},
   "source": [
    "## Part 1"
   ]
  },
  {
   "cell_type": "code",
   "execution_count": 20,
   "metadata": {},
   "outputs": [],
   "source": [
    "seen = [0 for i in range(len(program))]  # which lines of code we've seen \n",
    "acc = 0\n",
    "\n",
    "i = 0\n",
    "while True:\n",
    "    opp, arg = program[i].split()\n",
    "    arg = int(arg)\n",
    "    \n",
    "    if opp == 'nop':\n",
    "        i += 1\n",
    "\n",
    "    elif opp == 'acc':\n",
    "        acc += arg\n",
    "        i += 1\n",
    "    \n",
    "    elif opp == 'jmp':\n",
    "        i += arg\n",
    "        \n",
    "    if seen[i] == 1:\n",
    "        break\n",
    "    else:\n",
    "        seen[i] = 1"
   ]
  },
  {
   "cell_type": "code",
   "execution_count": 21,
   "metadata": {},
   "outputs": [
    {
     "data": {
      "text/plain": [
       "1928"
      ]
     },
     "execution_count": 21,
     "metadata": {},
     "output_type": "execute_result"
    }
   ],
   "source": [
    "acc"
   ]
  },
  {
   "cell_type": "markdown",
   "metadata": {},
   "source": [
    "## Part 2\n",
    "Now we'll need to repeat the above process for all the possible altered programs.  \n",
    "If we find it runs infinitely, discard it (-99), if it terminates, return the accumulator."
   ]
  },
  {
   "cell_type": "code",
   "execution_count": 22,
   "metadata": {},
   "outputs": [],
   "source": [
    "def checkProg(prog):\n",
    "    seen = [0 for i in range(len(prog))]\n",
    "    acc = 0\n",
    "    i = 0\n",
    "    while True:\n",
    "        opp, arg = prog[i].split(' ')\n",
    "        arg = int(arg)\n",
    "        \n",
    "        if opp == 'nop':\n",
    "            i += 1\n",
    "        elif opp == 'acc':\n",
    "            acc += arg\n",
    "            i += 1\n",
    "        elif opp == 'jmp':\n",
    "            i += arg\n",
    "\n",
    "        if i == len(prog):\n",
    "            return acc\n",
    "        elif seen[i] == 1:\n",
    "            return -99\n",
    "        elif seen[i] == 0:\n",
    "            seen[i] = 1"
   ]
  },
  {
   "cell_type": "code",
   "execution_count": 23,
   "metadata": {},
   "outputs": [
    {
     "data": {
      "text/plain": [
       "-99"
      ]
     },
     "execution_count": 23,
     "metadata": {},
     "output_type": "execute_result"
    }
   ],
   "source": [
    "checkProg(stuff)"
   ]
  },
  {
   "cell_type": "code",
   "execution_count": 27,
   "metadata": {},
   "outputs": [
    {
     "name": "stdout",
     "output_type": "stream",
     "text": [
      "1319\n"
     ]
    }
   ],
   "source": [
    "for i, row in enumerate(program):\n",
    "    op = row[:3]\n",
    "    if op == 'acc':\n",
    "        continue\n",
    "    else:\n",
    "        newProg = program[:]\n",
    "        newProg[i] = 'jmp ' + row[4:] if op == 'nop' else 'nop ' + row[4:]    # swap ops\n",
    "    result = checkProg(newProg)\n",
    "    if result != -99:\n",
    "        print(result)\n",
    "        break"
   ]
  },
  {
   "cell_type": "code",
   "execution_count": null,
   "metadata": {},
   "outputs": [],
   "source": []
  }
 ],
 "metadata": {
  "kernelspec": {
   "display_name": "Python 3",
   "language": "python",
   "name": "python3"
  },
  "language_info": {
   "codemirror_mode": {
    "name": "ipython",
    "version": 3
   },
   "file_extension": ".py",
   "mimetype": "text/x-python",
   "name": "python",
   "nbconvert_exporter": "python",
   "pygments_lexer": "ipython3",
   "version": "3.8.3"
  }
 },
 "nbformat": 4,
 "nbformat_minor": 4
}
