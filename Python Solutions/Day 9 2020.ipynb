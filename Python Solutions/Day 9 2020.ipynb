{
 "cells": [
  {
   "cell_type": "markdown",
   "metadata": {},
   "source": [
    "# Day 9\n",
    "\n",
    "A list of numbers *almost* has the property that every number in the list can be made by a sum of some pair of numbers in the previous 25 numbers in the list (starting at the 26th number).  \n",
    "\n",
    "### Part 1\n",
    "Find the first number that cannot be made with the sum of two numbers in the previous 25"
   ]
  },
  {
   "cell_type": "code",
   "execution_count": 15,
   "metadata": {},
   "outputs": [],
   "source": [
    "f = open('day9.txt')\n",
    "vals = list(map(int, f.read().splitlines()))\n",
    "f.close()"
   ]
  },
  {
   "cell_type": "code",
   "execution_count": 16,
   "metadata": {},
   "outputs": [
    {
     "data": {
      "text/plain": [
       "[30, 17, 44, 5, 10, 33, 19, 31, 22, 25]"
      ]
     },
     "execution_count": 16,
     "metadata": {},
     "output_type": "execute_result"
    }
   ],
   "source": [
    "vals[:10]"
   ]
  },
  {
   "cell_type": "code",
   "execution_count": 17,
   "metadata": {},
   "outputs": [
    {
     "data": {
      "text/plain": [
       "[(1, 2), (1, 3), (1, 4), (2, 3), (2, 4), (3, 4)]"
      ]
     },
     "execution_count": 17,
     "metadata": {},
     "output_type": "execute_result"
    }
   ],
   "source": [
    "import itertools\n",
    "x = [1, 2, 3, 4]\n",
    "list(itertools.combinations(x, 2))"
   ]
  },
  {
   "cell_type": "code",
   "execution_count": 18,
   "metadata": {},
   "outputs": [
    {
     "data": {
      "text/plain": [
       "400480901"
      ]
     },
     "execution_count": 18,
     "metadata": {},
     "output_type": "execute_result"
    }
   ],
   "source": [
    "i = 25\n",
    "while i < len(vals):\n",
    "    pre = vals[i-25:i]\n",
    "    x = vals[i]\n",
    "    if all([sum(pair) != x for pair in list(itertools.combinations(pre, 2))]):\n",
    "        break\n",
    "    i += 1\n",
    "x"
   ]
  },
  {
   "cell_type": "markdown",
   "metadata": {},
   "source": [
    "### Part 2\n",
    "\n",
    "The 'wrong' number (answer) from Part 1 can't be made as a sum of any of the previous 25, but it can be made as a sum of several values in a continuous span somewhere in the list (i.e. the 4th through the 12th add to that value, the 90th).  \n",
    "\n",
    "Find the span - find the sum of the smallest and largest values in the span that sum to the Part 1 solution.\n",
    "\n",
    "We'll use the inchworm method to slide the window over which we're summing:\n",
    "1. increase the high until we go over x\n",
    "2. increase the low (decrease the sum) until we are under x"
   ]
  },
  {
   "cell_type": "code",
   "execution_count": 19,
   "metadata": {},
   "outputs": [],
   "source": [
    "x = 400480901\n",
    "low, high = 0, 1\n",
    "total = sum(vals[low:high+1])\n",
    "\n",
    "while total != x:\n",
    "    if total < x:\n",
    "        high += 1\n",
    "        total = sum(vals[low:high+1])\n",
    "    elif total > x:\n",
    "        while total > x:\n",
    "            low += 1\n",
    "            total = sum(vals[low:high+1])\n",
    "    "
   ]
  },
  {
   "cell_type": "code",
   "execution_count": 20,
   "metadata": {},
   "outputs": [
    {
     "data": {
      "text/plain": [
       "[13430479,\n",
       " 14984499,\n",
       " 15645276,\n",
       " 15790894,\n",
       " 16574709,\n",
       " 17997296,\n",
       " 19379778,\n",
       " 21084393,\n",
       " 21262237,\n",
       " 21567412,\n",
       " 22046086,\n",
       " 22564821,\n",
       " 28263273,\n",
       " 33306405,\n",
       " 40660332,\n",
       " 54156689]"
      ]
     },
     "execution_count": 20,
     "metadata": {},
     "output_type": "execute_result"
    }
   ],
   "source": [
    "sorted(vals[low:high])"
   ]
  },
  {
   "cell_type": "code",
   "execution_count": 21,
   "metadata": {},
   "outputs": [
    {
     "data": {
      "text/plain": [
       "67587168"
      ]
     },
     "execution_count": 21,
     "metadata": {},
     "output_type": "execute_result"
    }
   ],
   "source": [
    "min(vals[low:high]) + max(vals[low:high])"
   ]
  },
  {
   "cell_type": "code",
   "execution_count": null,
   "metadata": {},
   "outputs": [],
   "source": []
  }
 ],
 "metadata": {
  "kernelspec": {
   "display_name": "Python 3",
   "language": "python",
   "name": "python3"
  },
  "language_info": {
   "codemirror_mode": {
    "name": "ipython",
    "version": 3
   },
   "file_extension": ".py",
   "mimetype": "text/x-python",
   "name": "python",
   "nbconvert_exporter": "python",
   "pygments_lexer": "ipython3",
   "version": "3.8.3"
  }
 },
 "nbformat": 4,
 "nbformat_minor": 4
}
